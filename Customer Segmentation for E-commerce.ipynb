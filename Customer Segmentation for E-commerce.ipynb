{
 "cells": [
  {
   "cell_type": "code",
   "execution_count": 2,
   "id": "dd74747e-b435-4f72-ba55-57e11e6eb284",
   "metadata": {},
   "outputs": [],
   "source": [
    "import pandas as pd\n",
    "\n",
    "import numpy as np\n",
    "\n",
    "import matplotlib.pyplot as plt\n",
    "\n",
    "import seaborn as sns"
   ]
  },
  {
   "cell_type": "code",
   "execution_count": 4,
   "id": "075d78e4-814b-4108-82a6-fea8013cdb48",
   "metadata": {},
   "outputs": [],
   "source": [
    "df = pd.read_csv('E-commerce Customer Behavior .csv')"
   ]
  },
  {
   "cell_type": "code",
   "execution_count": 6,
   "id": "1fdedfd8-cabc-4294-9d77-d77659c3f379",
   "metadata": {},
   "outputs": [
    {
     "data": {
      "text/html": [
       "<div>\n",
       "<style scoped>\n",
       "    .dataframe tbody tr th:only-of-type {\n",
       "        vertical-align: middle;\n",
       "    }\n",
       "\n",
       "    .dataframe tbody tr th {\n",
       "        vertical-align: top;\n",
       "    }\n",
       "\n",
       "    .dataframe thead th {\n",
       "        text-align: right;\n",
       "    }\n",
       "</style>\n",
       "<table border=\"1\" class=\"dataframe\">\n",
       "  <thead>\n",
       "    <tr style=\"text-align: right;\">\n",
       "      <th></th>\n",
       "      <th>Customer ID</th>\n",
       "      <th>Gender</th>\n",
       "      <th>Age</th>\n",
       "      <th>City</th>\n",
       "      <th>Membership Type</th>\n",
       "      <th>Total Spend</th>\n",
       "      <th>Items Purchased</th>\n",
       "      <th>Average Rating</th>\n",
       "      <th>Discount Applied</th>\n",
       "      <th>Days Since Last Purchase</th>\n",
       "      <th>Satisfaction Level</th>\n",
       "    </tr>\n",
       "  </thead>\n",
       "  <tbody>\n",
       "    <tr>\n",
       "      <th>0</th>\n",
       "      <td>101</td>\n",
       "      <td>Female</td>\n",
       "      <td>29</td>\n",
       "      <td>New York</td>\n",
       "      <td>Gold</td>\n",
       "      <td>1120.20</td>\n",
       "      <td>14</td>\n",
       "      <td>4.6</td>\n",
       "      <td>True</td>\n",
       "      <td>25</td>\n",
       "      <td>Satisfied</td>\n",
       "    </tr>\n",
       "    <tr>\n",
       "      <th>1</th>\n",
       "      <td>102</td>\n",
       "      <td>Male</td>\n",
       "      <td>34</td>\n",
       "      <td>Los Angeles</td>\n",
       "      <td>Silver</td>\n",
       "      <td>780.50</td>\n",
       "      <td>11</td>\n",
       "      <td>4.1</td>\n",
       "      <td>False</td>\n",
       "      <td>18</td>\n",
       "      <td>Neutral</td>\n",
       "    </tr>\n",
       "    <tr>\n",
       "      <th>2</th>\n",
       "      <td>103</td>\n",
       "      <td>Female</td>\n",
       "      <td>43</td>\n",
       "      <td>Chicago</td>\n",
       "      <td>Bronze</td>\n",
       "      <td>510.75</td>\n",
       "      <td>9</td>\n",
       "      <td>3.4</td>\n",
       "      <td>True</td>\n",
       "      <td>42</td>\n",
       "      <td>Unsatisfied</td>\n",
       "    </tr>\n",
       "    <tr>\n",
       "      <th>3</th>\n",
       "      <td>104</td>\n",
       "      <td>Male</td>\n",
       "      <td>30</td>\n",
       "      <td>San Francisco</td>\n",
       "      <td>Gold</td>\n",
       "      <td>1480.30</td>\n",
       "      <td>19</td>\n",
       "      <td>4.7</td>\n",
       "      <td>False</td>\n",
       "      <td>12</td>\n",
       "      <td>Satisfied</td>\n",
       "    </tr>\n",
       "    <tr>\n",
       "      <th>4</th>\n",
       "      <td>105</td>\n",
       "      <td>Male</td>\n",
       "      <td>27</td>\n",
       "      <td>Miami</td>\n",
       "      <td>Silver</td>\n",
       "      <td>720.40</td>\n",
       "      <td>13</td>\n",
       "      <td>4.0</td>\n",
       "      <td>True</td>\n",
       "      <td>55</td>\n",
       "      <td>Unsatisfied</td>\n",
       "    </tr>\n",
       "    <tr>\n",
       "      <th>...</th>\n",
       "      <td>...</td>\n",
       "      <td>...</td>\n",
       "      <td>...</td>\n",
       "      <td>...</td>\n",
       "      <td>...</td>\n",
       "      <td>...</td>\n",
       "      <td>...</td>\n",
       "      <td>...</td>\n",
       "      <td>...</td>\n",
       "      <td>...</td>\n",
       "      <td>...</td>\n",
       "    </tr>\n",
       "    <tr>\n",
       "      <th>345</th>\n",
       "      <td>446</td>\n",
       "      <td>Male</td>\n",
       "      <td>32</td>\n",
       "      <td>Miami</td>\n",
       "      <td>Silver</td>\n",
       "      <td>660.30</td>\n",
       "      <td>10</td>\n",
       "      <td>3.8</td>\n",
       "      <td>True</td>\n",
       "      <td>42</td>\n",
       "      <td>Unsatisfied</td>\n",
       "    </tr>\n",
       "    <tr>\n",
       "      <th>346</th>\n",
       "      <td>447</td>\n",
       "      <td>Female</td>\n",
       "      <td>36</td>\n",
       "      <td>Houston</td>\n",
       "      <td>Bronze</td>\n",
       "      <td>470.50</td>\n",
       "      <td>8</td>\n",
       "      <td>3.0</td>\n",
       "      <td>False</td>\n",
       "      <td>27</td>\n",
       "      <td>Neutral</td>\n",
       "    </tr>\n",
       "    <tr>\n",
       "      <th>347</th>\n",
       "      <td>448</td>\n",
       "      <td>Female</td>\n",
       "      <td>30</td>\n",
       "      <td>New York</td>\n",
       "      <td>Gold</td>\n",
       "      <td>1190.80</td>\n",
       "      <td>16</td>\n",
       "      <td>4.5</td>\n",
       "      <td>True</td>\n",
       "      <td>28</td>\n",
       "      <td>Satisfied</td>\n",
       "    </tr>\n",
       "    <tr>\n",
       "      <th>348</th>\n",
       "      <td>449</td>\n",
       "      <td>Male</td>\n",
       "      <td>34</td>\n",
       "      <td>Los Angeles</td>\n",
       "      <td>Silver</td>\n",
       "      <td>780.20</td>\n",
       "      <td>11</td>\n",
       "      <td>4.2</td>\n",
       "      <td>False</td>\n",
       "      <td>21</td>\n",
       "      <td>Neutral</td>\n",
       "    </tr>\n",
       "    <tr>\n",
       "      <th>349</th>\n",
       "      <td>450</td>\n",
       "      <td>Female</td>\n",
       "      <td>43</td>\n",
       "      <td>Chicago</td>\n",
       "      <td>Bronze</td>\n",
       "      <td>515.75</td>\n",
       "      <td>10</td>\n",
       "      <td>3.3</td>\n",
       "      <td>True</td>\n",
       "      <td>49</td>\n",
       "      <td>Unsatisfied</td>\n",
       "    </tr>\n",
       "  </tbody>\n",
       "</table>\n",
       "<p>350 rows × 11 columns</p>\n",
       "</div>"
      ],
      "text/plain": [
       "     Customer ID  Gender  Age           City Membership Type  Total Spend  \\\n",
       "0            101  Female   29       New York            Gold      1120.20   \n",
       "1            102    Male   34    Los Angeles          Silver       780.50   \n",
       "2            103  Female   43        Chicago          Bronze       510.75   \n",
       "3            104    Male   30  San Francisco            Gold      1480.30   \n",
       "4            105    Male   27          Miami          Silver       720.40   \n",
       "..           ...     ...  ...            ...             ...          ...   \n",
       "345          446    Male   32          Miami          Silver       660.30   \n",
       "346          447  Female   36        Houston          Bronze       470.50   \n",
       "347          448  Female   30       New York            Gold      1190.80   \n",
       "348          449    Male   34    Los Angeles          Silver       780.20   \n",
       "349          450  Female   43        Chicago          Bronze       515.75   \n",
       "\n",
       "     Items Purchased  Average Rating  Discount Applied  \\\n",
       "0                 14             4.6              True   \n",
       "1                 11             4.1             False   \n",
       "2                  9             3.4              True   \n",
       "3                 19             4.7             False   \n",
       "4                 13             4.0              True   \n",
       "..               ...             ...               ...   \n",
       "345               10             3.8              True   \n",
       "346                8             3.0             False   \n",
       "347               16             4.5              True   \n",
       "348               11             4.2             False   \n",
       "349               10             3.3              True   \n",
       "\n",
       "     Days Since Last Purchase Satisfaction Level  \n",
       "0                          25          Satisfied  \n",
       "1                          18            Neutral  \n",
       "2                          42        Unsatisfied  \n",
       "3                          12          Satisfied  \n",
       "4                          55        Unsatisfied  \n",
       "..                        ...                ...  \n",
       "345                        42        Unsatisfied  \n",
       "346                        27            Neutral  \n",
       "347                        28          Satisfied  \n",
       "348                        21            Neutral  \n",
       "349                        49        Unsatisfied  \n",
       "\n",
       "[350 rows x 11 columns]"
      ]
     },
     "execution_count": 6,
     "metadata": {},
     "output_type": "execute_result"
    }
   ],
   "source": [
    "df"
   ]
  },
  {
   "cell_type": "code",
   "execution_count": 8,
   "id": "ac736dea-b465-460c-bfa8-d5c50d748919",
   "metadata": {},
   "outputs": [
    {
     "data": {
      "text/plain": [
       "(350, 11)"
      ]
     },
     "execution_count": 8,
     "metadata": {},
     "output_type": "execute_result"
    }
   ],
   "source": [
    "df.shape"
   ]
  },
  {
   "cell_type": "code",
   "execution_count": 10,
   "id": "7e907efb-e1dc-4f11-88c5-7fe06725c19d",
   "metadata": {},
   "outputs": [
    {
     "data": {
      "text/plain": [
       "Customer ID                 0\n",
       "Gender                      0\n",
       "Age                         0\n",
       "City                        0\n",
       "Membership Type             0\n",
       "Total Spend                 0\n",
       "Items Purchased             0\n",
       "Average Rating              0\n",
       "Discount Applied            0\n",
       "Days Since Last Purchase    0\n",
       "Satisfaction Level          2\n",
       "dtype: int64"
      ]
     },
     "execution_count": 10,
     "metadata": {},
     "output_type": "execute_result"
    }
   ],
   "source": [
    "df.isnull().sum()"
   ]
  },
  {
   "cell_type": "code",
   "execution_count": 12,
   "id": "9d03c7f4-95af-49fa-9531-832d685313c3",
   "metadata": {},
   "outputs": [
    {
     "name": "stdout",
     "output_type": "stream",
     "text": [
      "<class 'pandas.core.frame.DataFrame'>\n",
      "RangeIndex: 350 entries, 0 to 349\n",
      "Data columns (total 11 columns):\n",
      " #   Column                    Non-Null Count  Dtype  \n",
      "---  ------                    --------------  -----  \n",
      " 0   Customer ID               350 non-null    int64  \n",
      " 1   Gender                    350 non-null    object \n",
      " 2   Age                       350 non-null    int64  \n",
      " 3   City                      350 non-null    object \n",
      " 4   Membership Type           350 non-null    object \n",
      " 5   Total Spend               350 non-null    float64\n",
      " 6   Items Purchased           350 non-null    int64  \n",
      " 7   Average Rating            350 non-null    float64\n",
      " 8   Discount Applied          350 non-null    bool   \n",
      " 9   Days Since Last Purchase  350 non-null    int64  \n",
      " 10  Satisfaction Level        348 non-null    object \n",
      "dtypes: bool(1), float64(2), int64(4), object(4)\n",
      "memory usage: 27.8+ KB\n"
     ]
    }
   ],
   "source": [
    "df.info()"
   ]
  },
  {
   "cell_type": "code",
   "execution_count": 14,
   "id": "842015f8-9177-4061-a8ce-afe5846cd77a",
   "metadata": {},
   "outputs": [
    {
     "data": {
      "text/plain": [
       "array(['Female', 'Male'], dtype=object)"
      ]
     },
     "execution_count": 14,
     "metadata": {},
     "output_type": "execute_result"
    }
   ],
   "source": [
    "df['Gender'].unique()"
   ]
  },
  {
   "cell_type": "code",
   "execution_count": 16,
   "id": "2af2c316-ee38-4c81-aeab-9bc3f1e13e73",
   "metadata": {},
   "outputs": [
    {
     "data": {
      "text/plain": [
       "array(['New York', 'Los Angeles', 'Chicago', 'San Francisco', 'Miami',\n",
       "       'Houston'], dtype=object)"
      ]
     },
     "execution_count": 16,
     "metadata": {},
     "output_type": "execute_result"
    }
   ],
   "source": [
    "df['City'].unique()"
   ]
  },
  {
   "cell_type": "code",
   "execution_count": 18,
   "id": "ace8dc4b-d312-47b4-acc2-2999afbd6cec",
   "metadata": {},
   "outputs": [
    {
     "data": {
      "text/plain": [
       "array(['Gold', 'Silver', 'Bronze'], dtype=object)"
      ]
     },
     "execution_count": 18,
     "metadata": {},
     "output_type": "execute_result"
    }
   ],
   "source": [
    "df['Membership Type'].unique()"
   ]
  },
  {
   "cell_type": "code",
   "execution_count": 20,
   "id": "315d91a8-3b94-4c54-b6d8-65a1642842b2",
   "metadata": {},
   "outputs": [
    {
     "data": {
      "text/plain": [
       "array([ True, False])"
      ]
     },
     "execution_count": 20,
     "metadata": {},
     "output_type": "execute_result"
    }
   ],
   "source": [
    "df['Discount Applied'].unique()"
   ]
  },
  {
   "cell_type": "code",
   "execution_count": 22,
   "id": "47733150-c24c-4995-8f96-cdcf016ade2f",
   "metadata": {},
   "outputs": [
    {
     "data": {
      "text/plain": [
       "array(['Satisfied', 'Neutral', 'Unsatisfied', nan], dtype=object)"
      ]
     },
     "execution_count": 22,
     "metadata": {},
     "output_type": "execute_result"
    }
   ],
   "source": [
    "df['Satisfaction Level'].unique()"
   ]
  },
  {
   "cell_type": "code",
   "execution_count": 24,
   "id": "40942f67-e271-412c-b0df-b6925d850db7",
   "metadata": {},
   "outputs": [
    {
     "data": {
      "text/plain": [
       "Satisfaction Level\n",
       "Satisfied      125\n",
       "Unsatisfied    116\n",
       "Neutral        107\n",
       "Name: count, dtype: int64"
      ]
     },
     "execution_count": 24,
     "metadata": {},
     "output_type": "execute_result"
    }
   ],
   "source": [
    "df['Satisfaction Level'].value_counts()"
   ]
  },
  {
   "cell_type": "code",
   "execution_count": 26,
   "id": "6c98b759-d939-4e22-82c2-c43f6a64279b",
   "metadata": {},
   "outputs": [],
   "source": [
    "df.dropna(inplace=True)"
   ]
  },
  {
   "cell_type": "code",
   "execution_count": 28,
   "id": "7d665826-03e6-49d8-b3d8-d23f8fa17b15",
   "metadata": {},
   "outputs": [
    {
     "data": {
      "text/plain": [
       "(348, 11)"
      ]
     },
     "execution_count": 28,
     "metadata": {},
     "output_type": "execute_result"
    }
   ],
   "source": [
    "df.shape"
   ]
  },
  {
   "cell_type": "code",
   "execution_count": 30,
   "id": "b1945742-8126-443d-9443-43bee1da5a8a",
   "metadata": {},
   "outputs": [
    {
     "data": {
      "text/plain": [
       "Index(['Customer ID', 'Gender', 'Age', 'City', 'Membership Type',\n",
       "       'Total Spend', 'Items Purchased', 'Average Rating', 'Discount Applied',\n",
       "       'Days Since Last Purchase', 'Satisfaction Level'],\n",
       "      dtype='object')"
      ]
     },
     "execution_count": 30,
     "metadata": {},
     "output_type": "execute_result"
    }
   ],
   "source": [
    "df.columns"
   ]
  },
  {
   "cell_type": "code",
   "execution_count": 32,
   "id": "7334a814-f94b-4337-9561-f30104e5f78f",
   "metadata": {},
   "outputs": [],
   "source": [
    "df_num = df[['Customer ID', 'Gender', 'Age', 'City', 'Membership Type',\n",
    "       'Total Spend', 'Items Purchased', 'Average Rating', 'Discount Applied',\n",
    "       'Days Since Last Purchase', 'Satisfaction Level']]"
   ]
  },
  {
   "cell_type": "code",
   "execution_count": 34,
   "id": "4515e0ea-6a7b-47d4-8908-592536cb4cf6",
   "metadata": {},
   "outputs": [],
   "source": [
    "def str_in_num(x):\n",
    "\n",
    "    if x == 'Female':\n",
    "\n",
    "        return 0\n",
    "\n",
    "    else:\n",
    "\n",
    "        return 1"
   ]
  },
  {
   "cell_type": "code",
   "execution_count": 36,
   "id": "c7b7aeda-4518-4759-a3c7-cc3069951727",
   "metadata": {},
   "outputs": [],
   "source": [
    "df_num['Gender'] = df_num['Gender'].apply(str_in_num)"
   ]
  },
  {
   "cell_type": "code",
   "execution_count": 38,
   "id": "0a381031-8a75-48f0-9bdb-2c0b06e1f9f6",
   "metadata": {},
   "outputs": [
    {
     "data": {
      "text/plain": [
       "0      0\n",
       "1      1\n",
       "2      0\n",
       "3      1\n",
       "4      1\n",
       "      ..\n",
       "345    1\n",
       "346    0\n",
       "347    0\n",
       "348    1\n",
       "349    0\n",
       "Name: Gender, Length: 348, dtype: int64"
      ]
     },
     "execution_count": 38,
     "metadata": {},
     "output_type": "execute_result"
    }
   ],
   "source": [
    "df_num['Gender']"
   ]
  },
  {
   "cell_type": "code",
   "execution_count": 40,
   "id": "39ef9df0-4fac-48c7-80f2-b0de742facfd",
   "metadata": {},
   "outputs": [],
   "source": [
    "def city_to_num(y):\n",
    "\n",
    "    if y == 'New York':\n",
    "\n",
    "        return 0\n",
    "\n",
    "    elif y == 'Los Angeles':\n",
    "\n",
    "        return 1\n",
    "\n",
    "    elif y == 'Chicago':\n",
    "\n",
    "        return 2\n",
    "\n",
    "    elif y == 'San Francisco':\n",
    "\n",
    "        return 3\n",
    "\n",
    "    elif y == 'Miami':\n",
    "\n",
    "        return 4\n",
    "\n",
    "    elif y == 'Houston':\n",
    "\n",
    "        return 5"
   ]
  },
  {
   "cell_type": "code",
   "execution_count": 42,
   "id": "d850d8ec-8c71-495d-bbbc-4541393f2db8",
   "metadata": {},
   "outputs": [],
   "source": [
    "df_num['City'] = df_num['City'].apply(city_to_num)"
   ]
  },
  {
   "cell_type": "code",
   "execution_count": 44,
   "id": "176876c0-47e2-4c24-bfb9-2a3c4ee1a27d",
   "metadata": {},
   "outputs": [],
   "source": [
    "def mem_to_num(z):\n",
    "\n",
    "    if z =='Gold':\n",
    "    \n",
    "        return 0\n",
    "    \n",
    "    elif z == 'Silver':\n",
    "\n",
    "        return 1\n",
    "\n",
    "    elif z == 'Bronze':\n",
    "\n",
    "        return 2\n"
   ]
  },
  {
   "cell_type": "code",
   "execution_count": 46,
   "id": "8f523968-3c9e-4e87-9e5a-5e59710cc983",
   "metadata": {},
   "outputs": [],
   "source": [
    "df_num['Membership Type'] = df_num['Membership Type'].apply(mem_to_num)"
   ]
  },
  {
   "cell_type": "code",
   "execution_count": 48,
   "id": "b2cbaaa5-c647-4caa-99c0-5353a74e2d3c",
   "metadata": {},
   "outputs": [],
   "source": [
    "def stif_num(s):\n",
    "\n",
    "    if s == 'Satisfied':\n",
    "\n",
    "        return 1\n",
    "\n",
    "    elif s == 'Neutral':\n",
    "\n",
    "        return 2\n",
    "\n",
    "    elif s == 'Unsatisfied':\n",
    "\n",
    "        return 3"
   ]
  },
  {
   "cell_type": "code",
   "execution_count": 50,
   "id": "31cc44bb-f928-4e89-a3e3-f2281fb3e94b",
   "metadata": {},
   "outputs": [],
   "source": [
    "df_num['Satisfaction Level'] = df_num['Satisfaction Level'].apply(stif_num)"
   ]
  },
  {
   "cell_type": "code",
   "execution_count": 52,
   "id": "db8d31ce-8b8b-4e1c-902b-df467d9d78b9",
   "metadata": {},
   "outputs": [
    {
     "data": {
      "text/html": [
       "<div>\n",
       "<style scoped>\n",
       "    .dataframe tbody tr th:only-of-type {\n",
       "        vertical-align: middle;\n",
       "    }\n",
       "\n",
       "    .dataframe tbody tr th {\n",
       "        vertical-align: top;\n",
       "    }\n",
       "\n",
       "    .dataframe thead th {\n",
       "        text-align: right;\n",
       "    }\n",
       "</style>\n",
       "<table border=\"1\" class=\"dataframe\">\n",
       "  <thead>\n",
       "    <tr style=\"text-align: right;\">\n",
       "      <th></th>\n",
       "      <th>Customer ID</th>\n",
       "      <th>Gender</th>\n",
       "      <th>Age</th>\n",
       "      <th>City</th>\n",
       "      <th>Membership Type</th>\n",
       "      <th>Total Spend</th>\n",
       "      <th>Items Purchased</th>\n",
       "      <th>Average Rating</th>\n",
       "      <th>Discount Applied</th>\n",
       "      <th>Days Since Last Purchase</th>\n",
       "      <th>Satisfaction Level</th>\n",
       "    </tr>\n",
       "  </thead>\n",
       "  <tbody>\n",
       "    <tr>\n",
       "      <th>0</th>\n",
       "      <td>101</td>\n",
       "      <td>0</td>\n",
       "      <td>29</td>\n",
       "      <td>0</td>\n",
       "      <td>0</td>\n",
       "      <td>1120.20</td>\n",
       "      <td>14</td>\n",
       "      <td>4.6</td>\n",
       "      <td>True</td>\n",
       "      <td>25</td>\n",
       "      <td>1</td>\n",
       "    </tr>\n",
       "    <tr>\n",
       "      <th>1</th>\n",
       "      <td>102</td>\n",
       "      <td>1</td>\n",
       "      <td>34</td>\n",
       "      <td>1</td>\n",
       "      <td>1</td>\n",
       "      <td>780.50</td>\n",
       "      <td>11</td>\n",
       "      <td>4.1</td>\n",
       "      <td>False</td>\n",
       "      <td>18</td>\n",
       "      <td>2</td>\n",
       "    </tr>\n",
       "    <tr>\n",
       "      <th>2</th>\n",
       "      <td>103</td>\n",
       "      <td>0</td>\n",
       "      <td>43</td>\n",
       "      <td>2</td>\n",
       "      <td>2</td>\n",
       "      <td>510.75</td>\n",
       "      <td>9</td>\n",
       "      <td>3.4</td>\n",
       "      <td>True</td>\n",
       "      <td>42</td>\n",
       "      <td>3</td>\n",
       "    </tr>\n",
       "    <tr>\n",
       "      <th>3</th>\n",
       "      <td>104</td>\n",
       "      <td>1</td>\n",
       "      <td>30</td>\n",
       "      <td>3</td>\n",
       "      <td>0</td>\n",
       "      <td>1480.30</td>\n",
       "      <td>19</td>\n",
       "      <td>4.7</td>\n",
       "      <td>False</td>\n",
       "      <td>12</td>\n",
       "      <td>1</td>\n",
       "    </tr>\n",
       "    <tr>\n",
       "      <th>4</th>\n",
       "      <td>105</td>\n",
       "      <td>1</td>\n",
       "      <td>27</td>\n",
       "      <td>4</td>\n",
       "      <td>1</td>\n",
       "      <td>720.40</td>\n",
       "      <td>13</td>\n",
       "      <td>4.0</td>\n",
       "      <td>True</td>\n",
       "      <td>55</td>\n",
       "      <td>3</td>\n",
       "    </tr>\n",
       "    <tr>\n",
       "      <th>...</th>\n",
       "      <td>...</td>\n",
       "      <td>...</td>\n",
       "      <td>...</td>\n",
       "      <td>...</td>\n",
       "      <td>...</td>\n",
       "      <td>...</td>\n",
       "      <td>...</td>\n",
       "      <td>...</td>\n",
       "      <td>...</td>\n",
       "      <td>...</td>\n",
       "      <td>...</td>\n",
       "    </tr>\n",
       "    <tr>\n",
       "      <th>345</th>\n",
       "      <td>446</td>\n",
       "      <td>1</td>\n",
       "      <td>32</td>\n",
       "      <td>4</td>\n",
       "      <td>1</td>\n",
       "      <td>660.30</td>\n",
       "      <td>10</td>\n",
       "      <td>3.8</td>\n",
       "      <td>True</td>\n",
       "      <td>42</td>\n",
       "      <td>3</td>\n",
       "    </tr>\n",
       "    <tr>\n",
       "      <th>346</th>\n",
       "      <td>447</td>\n",
       "      <td>0</td>\n",
       "      <td>36</td>\n",
       "      <td>5</td>\n",
       "      <td>2</td>\n",
       "      <td>470.50</td>\n",
       "      <td>8</td>\n",
       "      <td>3.0</td>\n",
       "      <td>False</td>\n",
       "      <td>27</td>\n",
       "      <td>2</td>\n",
       "    </tr>\n",
       "    <tr>\n",
       "      <th>347</th>\n",
       "      <td>448</td>\n",
       "      <td>0</td>\n",
       "      <td>30</td>\n",
       "      <td>0</td>\n",
       "      <td>0</td>\n",
       "      <td>1190.80</td>\n",
       "      <td>16</td>\n",
       "      <td>4.5</td>\n",
       "      <td>True</td>\n",
       "      <td>28</td>\n",
       "      <td>1</td>\n",
       "    </tr>\n",
       "    <tr>\n",
       "      <th>348</th>\n",
       "      <td>449</td>\n",
       "      <td>1</td>\n",
       "      <td>34</td>\n",
       "      <td>1</td>\n",
       "      <td>1</td>\n",
       "      <td>780.20</td>\n",
       "      <td>11</td>\n",
       "      <td>4.2</td>\n",
       "      <td>False</td>\n",
       "      <td>21</td>\n",
       "      <td>2</td>\n",
       "    </tr>\n",
       "    <tr>\n",
       "      <th>349</th>\n",
       "      <td>450</td>\n",
       "      <td>0</td>\n",
       "      <td>43</td>\n",
       "      <td>2</td>\n",
       "      <td>2</td>\n",
       "      <td>515.75</td>\n",
       "      <td>10</td>\n",
       "      <td>3.3</td>\n",
       "      <td>True</td>\n",
       "      <td>49</td>\n",
       "      <td>3</td>\n",
       "    </tr>\n",
       "  </tbody>\n",
       "</table>\n",
       "<p>348 rows × 11 columns</p>\n",
       "</div>"
      ],
      "text/plain": [
       "     Customer ID  Gender  Age  City  Membership Type  Total Spend  \\\n",
       "0            101       0   29     0                0      1120.20   \n",
       "1            102       1   34     1                1       780.50   \n",
       "2            103       0   43     2                2       510.75   \n",
       "3            104       1   30     3                0      1480.30   \n",
       "4            105       1   27     4                1       720.40   \n",
       "..           ...     ...  ...   ...              ...          ...   \n",
       "345          446       1   32     4                1       660.30   \n",
       "346          447       0   36     5                2       470.50   \n",
       "347          448       0   30     0                0      1190.80   \n",
       "348          449       1   34     1                1       780.20   \n",
       "349          450       0   43     2                2       515.75   \n",
       "\n",
       "     Items Purchased  Average Rating  Discount Applied  \\\n",
       "0                 14             4.6              True   \n",
       "1                 11             4.1             False   \n",
       "2                  9             3.4              True   \n",
       "3                 19             4.7             False   \n",
       "4                 13             4.0              True   \n",
       "..               ...             ...               ...   \n",
       "345               10             3.8              True   \n",
       "346                8             3.0             False   \n",
       "347               16             4.5              True   \n",
       "348               11             4.2             False   \n",
       "349               10             3.3              True   \n",
       "\n",
       "     Days Since Last Purchase  Satisfaction Level  \n",
       "0                          25                   1  \n",
       "1                          18                   2  \n",
       "2                          42                   3  \n",
       "3                          12                   1  \n",
       "4                          55                   3  \n",
       "..                        ...                 ...  \n",
       "345                        42                   3  \n",
       "346                        27                   2  \n",
       "347                        28                   1  \n",
       "348                        21                   2  \n",
       "349                        49                   3  \n",
       "\n",
       "[348 rows x 11 columns]"
      ]
     },
     "execution_count": 52,
     "metadata": {},
     "output_type": "execute_result"
    }
   ],
   "source": [
    "df_num"
   ]
  },
  {
   "cell_type": "code",
   "execution_count": 54,
   "id": "d5cf267a-8982-41d4-b9d7-5047ed8979c3",
   "metadata": {},
   "outputs": [],
   "source": [
    "df_num.drop(['Customer ID'],axis=1,inplace=True)"
   ]
  },
  {
   "cell_type": "code",
   "execution_count": 56,
   "id": "9d35a746-20f4-4aa9-8b73-ab584a58d830",
   "metadata": {},
   "outputs": [
    {
     "data": {
      "text/plain": [
       "Index(['Gender', 'Age', 'City', 'Membership Type', 'Total Spend',\n",
       "       'Items Purchased', 'Average Rating', 'Discount Applied',\n",
       "       'Days Since Last Purchase', 'Satisfaction Level'],\n",
       "      dtype='object')"
      ]
     },
     "execution_count": 56,
     "metadata": {},
     "output_type": "execute_result"
    }
   ],
   "source": [
    "df_num.columns"
   ]
  },
  {
   "cell_type": "code",
   "execution_count": 58,
   "id": "c9160d98-9b36-4d4f-9afe-25b6acc435c1",
   "metadata": {},
   "outputs": [
    {
     "data": {
      "text/html": [
       "<div>\n",
       "<style scoped>\n",
       "    .dataframe tbody tr th:only-of-type {\n",
       "        vertical-align: middle;\n",
       "    }\n",
       "\n",
       "    .dataframe tbody tr th {\n",
       "        vertical-align: top;\n",
       "    }\n",
       "\n",
       "    .dataframe thead th {\n",
       "        text-align: right;\n",
       "    }\n",
       "</style>\n",
       "<table border=\"1\" class=\"dataframe\">\n",
       "  <thead>\n",
       "    <tr style=\"text-align: right;\">\n",
       "      <th></th>\n",
       "      <th>Gender</th>\n",
       "      <th>Age</th>\n",
       "      <th>City</th>\n",
       "      <th>Membership Type</th>\n",
       "      <th>Total Spend</th>\n",
       "      <th>Items Purchased</th>\n",
       "      <th>Average Rating</th>\n",
       "      <th>Days Since Last Purchase</th>\n",
       "      <th>Satisfaction Level</th>\n",
       "    </tr>\n",
       "  </thead>\n",
       "  <tbody>\n",
       "    <tr>\n",
       "      <th>count</th>\n",
       "      <td>348.000000</td>\n",
       "      <td>348.000000</td>\n",
       "      <td>348.000000</td>\n",
       "      <td>348.000000</td>\n",
       "      <td>348.000000</td>\n",
       "      <td>348.000000</td>\n",
       "      <td>348.000000</td>\n",
       "      <td>348.000000</td>\n",
       "      <td>348.000000</td>\n",
       "    </tr>\n",
       "    <tr>\n",
       "      <th>mean</th>\n",
       "      <td>0.502874</td>\n",
       "      <td>33.577586</td>\n",
       "      <td>2.474138</td>\n",
       "      <td>0.991379</td>\n",
       "      <td>847.793103</td>\n",
       "      <td>12.632184</td>\n",
       "      <td>4.023563</td>\n",
       "      <td>26.614943</td>\n",
       "      <td>1.974138</td>\n",
       "    </tr>\n",
       "    <tr>\n",
       "      <th>std</th>\n",
       "      <td>0.500712</td>\n",
       "      <td>4.878024</td>\n",
       "      <td>1.706714</td>\n",
       "      <td>0.815862</td>\n",
       "      <td>361.692375</td>\n",
       "      <td>4.146079</td>\n",
       "      <td>0.579145</td>\n",
       "      <td>13.474750</td>\n",
       "      <td>0.832979</td>\n",
       "    </tr>\n",
       "    <tr>\n",
       "      <th>min</th>\n",
       "      <td>0.000000</td>\n",
       "      <td>26.000000</td>\n",
       "      <td>0.000000</td>\n",
       "      <td>0.000000</td>\n",
       "      <td>410.800000</td>\n",
       "      <td>7.000000</td>\n",
       "      <td>3.000000</td>\n",
       "      <td>9.000000</td>\n",
       "      <td>1.000000</td>\n",
       "    </tr>\n",
       "    <tr>\n",
       "      <th>25%</th>\n",
       "      <td>0.000000</td>\n",
       "      <td>30.000000</td>\n",
       "      <td>1.000000</td>\n",
       "      <td>0.000000</td>\n",
       "      <td>505.750000</td>\n",
       "      <td>9.000000</td>\n",
       "      <td>3.500000</td>\n",
       "      <td>15.000000</td>\n",
       "      <td>1.000000</td>\n",
       "    </tr>\n",
       "    <tr>\n",
       "      <th>50%</th>\n",
       "      <td>1.000000</td>\n",
       "      <td>32.000000</td>\n",
       "      <td>2.000000</td>\n",
       "      <td>1.000000</td>\n",
       "      <td>780.200000</td>\n",
       "      <td>12.000000</td>\n",
       "      <td>4.100000</td>\n",
       "      <td>23.000000</td>\n",
       "      <td>2.000000</td>\n",
       "    </tr>\n",
       "    <tr>\n",
       "      <th>75%</th>\n",
       "      <td>1.000000</td>\n",
       "      <td>37.000000</td>\n",
       "      <td>4.000000</td>\n",
       "      <td>2.000000</td>\n",
       "      <td>1160.600000</td>\n",
       "      <td>15.000000</td>\n",
       "      <td>4.500000</td>\n",
       "      <td>38.000000</td>\n",
       "      <td>3.000000</td>\n",
       "    </tr>\n",
       "    <tr>\n",
       "      <th>max</th>\n",
       "      <td>1.000000</td>\n",
       "      <td>43.000000</td>\n",
       "      <td>5.000000</td>\n",
       "      <td>2.000000</td>\n",
       "      <td>1520.100000</td>\n",
       "      <td>21.000000</td>\n",
       "      <td>4.900000</td>\n",
       "      <td>63.000000</td>\n",
       "      <td>3.000000</td>\n",
       "    </tr>\n",
       "  </tbody>\n",
       "</table>\n",
       "</div>"
      ],
      "text/plain": [
       "           Gender         Age        City  Membership Type  Total Spend  \\\n",
       "count  348.000000  348.000000  348.000000       348.000000   348.000000   \n",
       "mean     0.502874   33.577586    2.474138         0.991379   847.793103   \n",
       "std      0.500712    4.878024    1.706714         0.815862   361.692375   \n",
       "min      0.000000   26.000000    0.000000         0.000000   410.800000   \n",
       "25%      0.000000   30.000000    1.000000         0.000000   505.750000   \n",
       "50%      1.000000   32.000000    2.000000         1.000000   780.200000   \n",
       "75%      1.000000   37.000000    4.000000         2.000000  1160.600000   \n",
       "max      1.000000   43.000000    5.000000         2.000000  1520.100000   \n",
       "\n",
       "       Items Purchased  Average Rating  Days Since Last Purchase  \\\n",
       "count       348.000000      348.000000                348.000000   \n",
       "mean         12.632184        4.023563                 26.614943   \n",
       "std           4.146079        0.579145                 13.474750   \n",
       "min           7.000000        3.000000                  9.000000   \n",
       "25%           9.000000        3.500000                 15.000000   \n",
       "50%          12.000000        4.100000                 23.000000   \n",
       "75%          15.000000        4.500000                 38.000000   \n",
       "max          21.000000        4.900000                 63.000000   \n",
       "\n",
       "       Satisfaction Level  \n",
       "count          348.000000  \n",
       "mean             1.974138  \n",
       "std              0.832979  \n",
       "min              1.000000  \n",
       "25%              1.000000  \n",
       "50%              2.000000  \n",
       "75%              3.000000  \n",
       "max              3.000000  "
      ]
     },
     "execution_count": 58,
     "metadata": {},
     "output_type": "execute_result"
    }
   ],
   "source": [
    "df_num.describe()"
   ]
  },
  {
   "cell_type": "code",
   "execution_count": 60,
   "id": "85e35544-1586-47e2-8b1c-1ea74bb1fa6c",
   "metadata": {},
   "outputs": [
    {
     "data": {
      "text/html": [
       "<div>\n",
       "<style scoped>\n",
       "    .dataframe tbody tr th:only-of-type {\n",
       "        vertical-align: middle;\n",
       "    }\n",
       "\n",
       "    .dataframe tbody tr th {\n",
       "        vertical-align: top;\n",
       "    }\n",
       "\n",
       "    .dataframe thead th {\n",
       "        text-align: right;\n",
       "    }\n",
       "</style>\n",
       "<table border=\"1\" class=\"dataframe\">\n",
       "  <thead>\n",
       "    <tr style=\"text-align: right;\">\n",
       "      <th></th>\n",
       "      <th>Gender</th>\n",
       "      <th>Age</th>\n",
       "      <th>City</th>\n",
       "      <th>Membership Type</th>\n",
       "      <th>Total Spend</th>\n",
       "      <th>Items Purchased</th>\n",
       "      <th>Average Rating</th>\n",
       "      <th>Discount Applied</th>\n",
       "      <th>Days Since Last Purchase</th>\n",
       "      <th>Satisfaction Level</th>\n",
       "    </tr>\n",
       "  </thead>\n",
       "  <tbody>\n",
       "    <tr>\n",
       "      <th>Gender</th>\n",
       "      <td>1.000000</td>\n",
       "      <td>-0.581774</td>\n",
       "      <td>0.094511</td>\n",
       "      <td>-0.405573</td>\n",
       "      <td>0.387471</td>\n",
       "      <td>0.439175</td>\n",
       "      <td>0.492687</td>\n",
       "      <td>-0.344872</td>\n",
       "      <td>-0.214256</td>\n",
       "      <td>-0.037824</td>\n",
       "    </tr>\n",
       "    <tr>\n",
       "      <th>Age</th>\n",
       "      <td>-0.581774</td>\n",
       "      <td>1.000000</td>\n",
       "      <td>0.012011</td>\n",
       "      <td>0.790544</td>\n",
       "      <td>-0.676826</td>\n",
       "      <td>-0.684397</td>\n",
       "      <td>-0.721752</td>\n",
       "      <td>0.061262</td>\n",
       "      <td>0.170437</td>\n",
       "      <td>0.463274</td>\n",
       "    </tr>\n",
       "    <tr>\n",
       "      <th>City</th>\n",
       "      <td>0.094511</td>\n",
       "      <td>0.012011</td>\n",
       "      <td>1.000000</td>\n",
       "      <td>0.474820</td>\n",
       "      <td>-0.396476</td>\n",
       "      <td>-0.321862</td>\n",
       "      <td>-0.512229</td>\n",
       "      <td>-0.286555</td>\n",
       "      <td>0.195427</td>\n",
       "      <td>0.381637</td>\n",
       "    </tr>\n",
       "    <tr>\n",
       "      <th>Membership Type</th>\n",
       "      <td>-0.405573</td>\n",
       "      <td>0.790544</td>\n",
       "      <td>0.474820</td>\n",
       "      <td>1.000000</td>\n",
       "      <td>-0.945334</td>\n",
       "      <td>-0.896343</td>\n",
       "      <td>-0.949810</td>\n",
       "      <td>0.003588</td>\n",
       "      <td>0.420431</td>\n",
       "      <td>0.741763</td>\n",
       "    </tr>\n",
       "    <tr>\n",
       "      <th>Total Spend</th>\n",
       "      <td>0.387471</td>\n",
       "      <td>-0.676826</td>\n",
       "      <td>-0.396476</td>\n",
       "      <td>-0.945334</td>\n",
       "      <td>1.000000</td>\n",
       "      <td>0.972276</td>\n",
       "      <td>0.941190</td>\n",
       "      <td>-0.168530</td>\n",
       "      <td>-0.544679</td>\n",
       "      <td>-0.797494</td>\n",
       "    </tr>\n",
       "    <tr>\n",
       "      <th>Items Purchased</th>\n",
       "      <td>0.439175</td>\n",
       "      <td>-0.684397</td>\n",
       "      <td>-0.321862</td>\n",
       "      <td>-0.896343</td>\n",
       "      <td>0.972276</td>\n",
       "      <td>1.000000</td>\n",
       "      <td>0.921396</td>\n",
       "      <td>-0.123037</td>\n",
       "      <td>-0.425425</td>\n",
       "      <td>-0.692850</td>\n",
       "    </tr>\n",
       "    <tr>\n",
       "      <th>Average Rating</th>\n",
       "      <td>0.492687</td>\n",
       "      <td>-0.721752</td>\n",
       "      <td>-0.512229</td>\n",
       "      <td>-0.949810</td>\n",
       "      <td>0.941190</td>\n",
       "      <td>0.921396</td>\n",
       "      <td>1.000000</td>\n",
       "      <td>-0.076756</td>\n",
       "      <td>-0.435921</td>\n",
       "      <td>-0.694679</td>\n",
       "    </tr>\n",
       "    <tr>\n",
       "      <th>Discount Applied</th>\n",
       "      <td>-0.344872</td>\n",
       "      <td>0.061262</td>\n",
       "      <td>-0.286555</td>\n",
       "      <td>0.003588</td>\n",
       "      <td>-0.168530</td>\n",
       "      <td>-0.123037</td>\n",
       "      <td>-0.076756</td>\n",
       "      <td>1.000000</td>\n",
       "      <td>0.760032</td>\n",
       "      <td>0.425115</td>\n",
       "    </tr>\n",
       "    <tr>\n",
       "      <th>Days Since Last Purchase</th>\n",
       "      <td>-0.214256</td>\n",
       "      <td>0.170437</td>\n",
       "      <td>0.195427</td>\n",
       "      <td>0.420431</td>\n",
       "      <td>-0.544679</td>\n",
       "      <td>-0.425425</td>\n",
       "      <td>-0.435921</td>\n",
       "      <td>0.760032</td>\n",
       "      <td>1.000000</td>\n",
       "      <td>0.773735</td>\n",
       "    </tr>\n",
       "    <tr>\n",
       "      <th>Satisfaction Level</th>\n",
       "      <td>-0.037824</td>\n",
       "      <td>0.463274</td>\n",
       "      <td>0.381637</td>\n",
       "      <td>0.741763</td>\n",
       "      <td>-0.797494</td>\n",
       "      <td>-0.692850</td>\n",
       "      <td>-0.694679</td>\n",
       "      <td>0.425115</td>\n",
       "      <td>0.773735</td>\n",
       "      <td>1.000000</td>\n",
       "    </tr>\n",
       "  </tbody>\n",
       "</table>\n",
       "</div>"
      ],
      "text/plain": [
       "                            Gender       Age      City  Membership Type  \\\n",
       "Gender                    1.000000 -0.581774  0.094511        -0.405573   \n",
       "Age                      -0.581774  1.000000  0.012011         0.790544   \n",
       "City                      0.094511  0.012011  1.000000         0.474820   \n",
       "Membership Type          -0.405573  0.790544  0.474820         1.000000   \n",
       "Total Spend               0.387471 -0.676826 -0.396476        -0.945334   \n",
       "Items Purchased           0.439175 -0.684397 -0.321862        -0.896343   \n",
       "Average Rating            0.492687 -0.721752 -0.512229        -0.949810   \n",
       "Discount Applied         -0.344872  0.061262 -0.286555         0.003588   \n",
       "Days Since Last Purchase -0.214256  0.170437  0.195427         0.420431   \n",
       "Satisfaction Level       -0.037824  0.463274  0.381637         0.741763   \n",
       "\n",
       "                          Total Spend  Items Purchased  Average Rating  \\\n",
       "Gender                       0.387471         0.439175        0.492687   \n",
       "Age                         -0.676826        -0.684397       -0.721752   \n",
       "City                        -0.396476        -0.321862       -0.512229   \n",
       "Membership Type             -0.945334        -0.896343       -0.949810   \n",
       "Total Spend                  1.000000         0.972276        0.941190   \n",
       "Items Purchased              0.972276         1.000000        0.921396   \n",
       "Average Rating               0.941190         0.921396        1.000000   \n",
       "Discount Applied            -0.168530        -0.123037       -0.076756   \n",
       "Days Since Last Purchase    -0.544679        -0.425425       -0.435921   \n",
       "Satisfaction Level          -0.797494        -0.692850       -0.694679   \n",
       "\n",
       "                          Discount Applied  Days Since Last Purchase  \\\n",
       "Gender                           -0.344872                 -0.214256   \n",
       "Age                               0.061262                  0.170437   \n",
       "City                             -0.286555                  0.195427   \n",
       "Membership Type                   0.003588                  0.420431   \n",
       "Total Spend                      -0.168530                 -0.544679   \n",
       "Items Purchased                  -0.123037                 -0.425425   \n",
       "Average Rating                   -0.076756                 -0.435921   \n",
       "Discount Applied                  1.000000                  0.760032   \n",
       "Days Since Last Purchase          0.760032                  1.000000   \n",
       "Satisfaction Level                0.425115                  0.773735   \n",
       "\n",
       "                          Satisfaction Level  \n",
       "Gender                             -0.037824  \n",
       "Age                                 0.463274  \n",
       "City                                0.381637  \n",
       "Membership Type                     0.741763  \n",
       "Total Spend                        -0.797494  \n",
       "Items Purchased                    -0.692850  \n",
       "Average Rating                     -0.694679  \n",
       "Discount Applied                    0.425115  \n",
       "Days Since Last Purchase            0.773735  \n",
       "Satisfaction Level                  1.000000  "
      ]
     },
     "execution_count": 60,
     "metadata": {},
     "output_type": "execute_result"
    }
   ],
   "source": [
    "df_num.corr()"
   ]
  },
  {
   "cell_type": "code",
   "execution_count": 62,
   "id": "c1dfecef-a38a-4c0f-b7b9-abfe06b087dc",
   "metadata": {},
   "outputs": [
    {
     "data": {
      "text/plain": [
       "Gender                      58\n",
       "Age                         58\n",
       "City                        58\n",
       "Membership Type             58\n",
       "Total Spend                 58\n",
       "Items Purchased             58\n",
       "Average Rating              58\n",
       "Discount Applied            58\n",
       "Days Since Last Purchase    58\n",
       "Satisfaction Level          58\n",
       "dtype: int64"
      ]
     },
     "execution_count": 62,
     "metadata": {},
     "output_type": "execute_result"
    }
   ],
   "source": [
    "df_num[(df_num['Gender'] == 0) & (df_num['Satisfaction Level'] == 1)].count() # Female, Satifised"
   ]
  },
  {
   "cell_type": "code",
   "execution_count": 64,
   "id": "0952eaf1-0d73-470f-8fa3-3e09ada658fd",
   "metadata": {},
   "outputs": [
    {
     "data": {
      "text/plain": [
       "Gender                      56\n",
       "Age                         56\n",
       "City                        56\n",
       "Membership Type             56\n",
       "Total Spend                 56\n",
       "Items Purchased             56\n",
       "Average Rating              56\n",
       "Discount Applied            56\n",
       "Days Since Last Purchase    56\n",
       "Satisfaction Level          56\n",
       "dtype: int64"
      ]
     },
     "execution_count": 64,
     "metadata": {},
     "output_type": "execute_result"
    }
   ],
   "source": [
    "df_num[(df_num['Gender'] == 0) & (df_num['Satisfaction Level'] == 2)].count() # Female , Natural"
   ]
  },
  {
   "cell_type": "code",
   "execution_count": 66,
   "id": "16aa61b1-5646-43df-8a42-bf9b1f2ed813",
   "metadata": {},
   "outputs": [
    {
     "data": {
      "text/plain": [
       "Gender                      59\n",
       "Age                         59\n",
       "City                        59\n",
       "Membership Type             59\n",
       "Total Spend                 59\n",
       "Items Purchased             59\n",
       "Average Rating              59\n",
       "Discount Applied            59\n",
       "Days Since Last Purchase    59\n",
       "Satisfaction Level          59\n",
       "dtype: int64"
      ]
     },
     "execution_count": 66,
     "metadata": {},
     "output_type": "execute_result"
    }
   ],
   "source": [
    "df_num[(df_num['Gender'] == 0) & (df_num['Satisfaction Level'] == 3)].count() # Female , Unstifised"
   ]
  },
  {
   "cell_type": "code",
   "execution_count": 68,
   "id": "efdacddb-5d76-41c2-8254-c7771542acab",
   "metadata": {},
   "outputs": [
    {
     "data": {
      "text/plain": [
       "<Axes: xlabel='Gender', ylabel='Total Spend'>"
      ]
     },
     "execution_count": 68,
     "metadata": {},
     "output_type": "execute_result"
    },
    {
     "data": {
      "image/png": "[encoded data removed]",
      "text/plain": [
       "<Figure size 640x480 with 1 Axes>"
      ]
     },
     "metadata": {},
     "output_type": "display_data"
    }
   ],
   "source": [
    "sns.barplot(data=df,\n",
    "    x='Gender',\n",
    "    y='Total Spend',)"
   ]
  },
  {
   "cell_type": "code",
   "execution_count": 70,
   "id": "2010d7e1-12c9-4954-9376-6960dbc1735e",
   "metadata": {},
   "outputs": [
    {
     "data": {
      "text/plain": [
       "<Axes: xlabel='Gender', ylabel='Satisfaction Level'>"
      ]
     },
     "execution_count": 70,
     "metadata": {},
     "output_type": "execute_result"
    },
    {
     "data": {
      "image/png": "[encoded data removed]",
      "text/plain": [
       "<Figure size 640x480 with 1 Axes>"
      ]
     },
     "metadata": {},
     "output_type": "display_data"
    }
   ],
   "source": [
    "sns.histplot(data=df,\n",
    "    x='Gender',\n",
    "    y='Satisfaction Level',)"
   ]
  },
  {
   "cell_type": "code",
   "execution_count": 72,
   "id": "51566582-1961-42da-8cf2-16fd48521042",
   "metadata": {},
   "outputs": [
    {
     "data": {
      "text/plain": [
       "Customer ID                 59\n",
       "Gender                      59\n",
       "Age                         59\n",
       "City                        59\n",
       "Membership Type             59\n",
       "Total Spend                 59\n",
       "Items Purchased             59\n",
       "Average Rating              59\n",
       "Discount Applied            59\n",
       "Days Since Last Purchase    59\n",
       "Satisfaction Level          59\n",
       "dtype: int64"
      ]
     },
     "execution_count": 72,
     "metadata": {},
     "output_type": "execute_result"
    }
   ],
   "source": [
    "df[(df['Discount Applied'] == True) & (df['Satisfaction Level'] == 'Satisfied')].count()"
   ]
  },
  {
   "cell_type": "code",
   "execution_count": 74,
   "id": "facd184a-2cc8-46fd-b661-dfa1e7bc517e",
   "metadata": {},
   "outputs": [
    {
     "data": {
      "text/plain": [
       "Customer ID                 0\n",
       "Gender                      0\n",
       "Age                         0\n",
       "City                        0\n",
       "Membership Type             0\n",
       "Total Spend                 0\n",
       "Items Purchased             0\n",
       "Average Rating              0\n",
       "Discount Applied            0\n",
       "Days Since Last Purchase    0\n",
       "Satisfaction Level          0\n",
       "dtype: int64"
      ]
     },
     "execution_count": 74,
     "metadata": {},
     "output_type": "execute_result"
    }
   ],
   "source": [
    "df[(df['Discount Applied'] == True) & (df['Satisfaction Level'] == 'Neutral')].count()"
   ]
  },
  {
   "cell_type": "code",
   "execution_count": 76,
   "id": "c682bf68-44ad-4604-90ea-e98360cf6b56",
   "metadata": {},
   "outputs": [
    {
     "data": {
      "text/plain": [
       "Customer ID                 116\n",
       "Gender                      116\n",
       "Age                         116\n",
       "City                        116\n",
       "Membership Type             116\n",
       "Total Spend                 116\n",
       "Items Purchased             116\n",
       "Average Rating              116\n",
       "Discount Applied            116\n",
       "Days Since Last Purchase    116\n",
       "Satisfaction Level          116\n",
       "dtype: int64"
      ]
     },
     "execution_count": 76,
     "metadata": {},
     "output_type": "execute_result"
    }
   ],
   "source": [
    "df[(df['Discount Applied'] == True) & (df['Satisfaction Level'] == 'Unsatisfied')].count()"
   ]
  },
  {
   "cell_type": "code",
   "execution_count": 78,
   "id": "7bbde5da-945e-4791-88e3-579b9a03a507",
   "metadata": {},
   "outputs": [
    {
     "data": {
      "text/plain": [
       "Customer ID                 59\n",
       "Gender                      59\n",
       "Age                         59\n",
       "City                        59\n",
       "Membership Type             59\n",
       "Total Spend                 59\n",
       "Items Purchased             59\n",
       "Average Rating              59\n",
       "Discount Applied            59\n",
       "Days Since Last Purchase    59\n",
       "Satisfaction Level          59\n",
       "dtype: int64"
      ]
     },
     "execution_count": 78,
     "metadata": {},
     "output_type": "execute_result"
    }
   ],
   "source": [
    "df[(df['Discount Applied'] == True) & (df['Satisfaction Level'] == 'Satisfied') & (df['Membership Type'] == 'Gold')].count()"
   ]
  },
  {
   "cell_type": "code",
   "execution_count": 80,
   "id": "dde769ac-5cae-426a-8f8b-ee6b08e70cc1",
   "metadata": {},
   "outputs": [
    {
     "data": {
      "text/plain": [
       "Customer ID                 0\n",
       "Gender                      0\n",
       "Age                         0\n",
       "City                        0\n",
       "Membership Type             0\n",
       "Total Spend                 0\n",
       "Items Purchased             0\n",
       "Average Rating              0\n",
       "Discount Applied            0\n",
       "Days Since Last Purchase    0\n",
       "Satisfaction Level          0\n",
       "dtype: int64"
      ]
     },
     "execution_count": 80,
     "metadata": {},
     "output_type": "execute_result"
    }
   ],
   "source": [
    "df[(df['Discount Applied'] == True) & (df['Satisfaction Level'] == 'Unsatisfied') & (df['Membership Type'] == 'Gold')].count()"
   ]
  },
  {
   "cell_type": "code",
   "execution_count": 82,
   "id": "fefe050d-6aa9-4216-9cf4-6d43bf216562",
   "metadata": {},
   "outputs": [
    {
     "data": {
      "text/plain": [
       "Customer ID                 0\n",
       "Gender                      0\n",
       "Age                         0\n",
       "City                        0\n",
       "Membership Type             0\n",
       "Total Spend                 0\n",
       "Items Purchased             0\n",
       "Average Rating              0\n",
       "Discount Applied            0\n",
       "Days Since Last Purchase    0\n",
       "Satisfaction Level          0\n",
       "dtype: int64"
      ]
     },
     "execution_count": 82,
     "metadata": {},
     "output_type": "execute_result"
    }
   ],
   "source": [
    "df[(df['Discount Applied'] == True) & (df['Satisfaction Level'] == 'Satisfied') & (df['Membership Type'] == 'Silver')].count()"
   ]
  },
  {
   "cell_type": "code",
   "execution_count": 84,
   "id": "3cf7b8c8-9fa5-436d-8d0c-0ba7cfce5b96",
   "metadata": {},
   "outputs": [
    {
     "data": {
      "text/plain": [
       "Customer ID                 58\n",
       "Gender                      58\n",
       "Age                         58\n",
       "City                        58\n",
       "Membership Type             58\n",
       "Total Spend                 58\n",
       "Items Purchased             58\n",
       "Average Rating              58\n",
       "Discount Applied            58\n",
       "Days Since Last Purchase    58\n",
       "Satisfaction Level          58\n",
       "dtype: int64"
      ]
     },
     "execution_count": 84,
     "metadata": {},
     "output_type": "execute_result"
    }
   ],
   "source": [
    "df[(df['Discount Applied'] == True) & (df['Satisfaction Level'] == 'Unsatisfied') & (df['Membership Type'] == 'Silver')].count()"
   ]
  },
  {
   "cell_type": "code",
   "execution_count": 86,
   "id": "6e604dd6-d448-4bcb-a34b-b3442a238829",
   "metadata": {},
   "outputs": [
    {
     "data": {
      "text/plain": [
       "Customer ID                 0\n",
       "Gender                      0\n",
       "Age                         0\n",
       "City                        0\n",
       "Membership Type             0\n",
       "Total Spend                 0\n",
       "Items Purchased             0\n",
       "Average Rating              0\n",
       "Discount Applied            0\n",
       "Days Since Last Purchase    0\n",
       "Satisfaction Level          0\n",
       "dtype: int64"
      ]
     },
     "execution_count": 86,
     "metadata": {},
     "output_type": "execute_result"
    }
   ],
   "source": [
    "df[(df['Discount Applied'] == True) & (df['Satisfaction Level'] == 'Satisfied') & (df['Membership Type'] == 'Bronze')].count()"
   ]
  },
  {
   "cell_type": "code",
   "execution_count": 88,
   "id": "671989fd-4623-40d0-b73f-117959fe613a",
   "metadata": {},
   "outputs": [
    {
     "data": {
      "text/plain": [
       "Customer ID                 58\n",
       "Gender                      58\n",
       "Age                         58\n",
       "City                        58\n",
       "Membership Type             58\n",
       "Total Spend                 58\n",
       "Items Purchased             58\n",
       "Average Rating              58\n",
       "Discount Applied            58\n",
       "Days Since Last Purchase    58\n",
       "Satisfaction Level          58\n",
       "dtype: int64"
      ]
     },
     "execution_count": 88,
     "metadata": {},
     "output_type": "execute_result"
    }
   ],
   "source": [
    "df[(df['Discount Applied'] == True) & (df['Satisfaction Level'] == 'Unsatisfied') & (df['Membership Type'] == 'Bronze')].count()"
   ]
  },
  {
   "cell_type": "code",
   "execution_count": 90,
   "id": "4fc8ab0d-9893-4468-818c-671e96337edc",
   "metadata": {},
   "outputs": [
    {
     "data": {
      "text/plain": [
       "Customer ID                 0\n",
       "Gender                      0\n",
       "Age                         0\n",
       "City                        0\n",
       "Membership Type             0\n",
       "Total Spend                 0\n",
       "Items Purchased             0\n",
       "Average Rating              0\n",
       "Discount Applied            0\n",
       "Days Since Last Purchase    0\n",
       "Satisfaction Level          0\n",
       "dtype: int64"
      ]
     },
     "execution_count": 90,
     "metadata": {},
     "output_type": "execute_result"
    }
   ],
   "source": [
    "df[(df['Discount Applied'] == True) & (df['Satisfaction Level'] == 'Neutral') & (df['Membership Type'] == 'Gold')].count()"
   ]
  },
  {
   "cell_type": "code",
   "execution_count": 92,
   "id": "5948e81e-4b29-4f00-884b-5508decb8148",
   "metadata": {},
   "outputs": [
    {
     "data": {
      "text/plain": [
       "Customer ID                 0\n",
       "Gender                      0\n",
       "Age                         0\n",
       "City                        0\n",
       "Membership Type             0\n",
       "Total Spend                 0\n",
       "Items Purchased             0\n",
       "Average Rating              0\n",
       "Discount Applied            0\n",
       "Days Since Last Purchase    0\n",
       "Satisfaction Level          0\n",
       "dtype: int64"
      ]
     },
     "execution_count": 92,
     "metadata": {},
     "output_type": "execute_result"
    }
   ],
   "source": [
    "df[(df['Discount Applied'] == True) & (df['Satisfaction Level'] == 'Neutral') & (df['Membership Type'] == 'Silver')].count()"
   ]
  },
  {
   "cell_type": "code",
   "execution_count": 94,
   "id": "3c79905e-e6fb-439e-b35c-502b9c9dde82",
   "metadata": {},
   "outputs": [
    {
     "data": {
      "text/plain": [
       "Customer ID                 0\n",
       "Gender                      0\n",
       "Age                         0\n",
       "City                        0\n",
       "Membership Type             0\n",
       "Total Spend                 0\n",
       "Items Purchased             0\n",
       "Average Rating              0\n",
       "Discount Applied            0\n",
       "Days Since Last Purchase    0\n",
       "Satisfaction Level          0\n",
       "dtype: int64"
      ]
     },
     "execution_count": 94,
     "metadata": {},
     "output_type": "execute_result"
    }
   ],
   "source": [
    "df[(df['Discount Applied'] == True) & (df['Satisfaction Level'] == 'Neutral') & (df['Membership Type'] == 'Bronze')].count()"
   ]
  },
  {
   "cell_type": "code",
   "execution_count": 96,
   "id": "0afcc3fc-6952-4ca8-8c8c-86b93e316645",
   "metadata": {},
   "outputs": [
    {
     "data": {
      "text/plain": [
       "Customer ID                 66\n",
       "Gender                      66\n",
       "Age                         66\n",
       "City                        66\n",
       "Membership Type             66\n",
       "Total Spend                 66\n",
       "Items Purchased             66\n",
       "Average Rating              66\n",
       "Discount Applied            66\n",
       "Days Since Last Purchase    66\n",
       "Satisfaction Level          66\n",
       "dtype: int64"
      ]
     },
     "execution_count": 96,
     "metadata": {},
     "output_type": "execute_result"
    }
   ],
   "source": [
    "df[(df['Discount Applied'] == False) & (df['Satisfaction Level'] == 'Satisfied')].count()"
   ]
  },
  {
   "cell_type": "code",
   "execution_count": 98,
   "id": "c505ba19-ad6e-49d5-a541-dfe36a9ffbf6",
   "metadata": {},
   "outputs": [
    {
     "data": {
      "text/plain": [
       "Customer ID                 107\n",
       "Gender                      107\n",
       "Age                         107\n",
       "City                        107\n",
       "Membership Type             107\n",
       "Total Spend                 107\n",
       "Items Purchased             107\n",
       "Average Rating              107\n",
       "Discount Applied            107\n",
       "Days Since Last Purchase    107\n",
       "Satisfaction Level          107\n",
       "dtype: int64"
      ]
     },
     "execution_count": 98,
     "metadata": {},
     "output_type": "execute_result"
    }
   ],
   "source": [
    "df[(df['Discount Applied'] == False) & (df['Satisfaction Level'] == 'Neutral')].count()"
   ]
  },
  {
   "cell_type": "code",
   "execution_count": 100,
   "id": "38217c64-fca7-4ecf-bea8-2ff07b962d71",
   "metadata": {},
   "outputs": [
    {
     "data": {
      "text/plain": [
       "Customer ID                 0\n",
       "Gender                      0\n",
       "Age                         0\n",
       "City                        0\n",
       "Membership Type             0\n",
       "Total Spend                 0\n",
       "Items Purchased             0\n",
       "Average Rating              0\n",
       "Discount Applied            0\n",
       "Days Since Last Purchase    0\n",
       "Satisfaction Level          0\n",
       "dtype: int64"
      ]
     },
     "execution_count": 100,
     "metadata": {},
     "output_type": "execute_result"
    }
   ],
   "source": [
    "df[(df['Discount Applied'] == False) & (df['Satisfaction Level'] == 'Unsatisfied')].count()"
   ]
  },
  {
   "cell_type": "code",
   "execution_count": 104,
   "id": "d991b382-15ca-4df3-a759-eb02b8ed2cd3",
   "metadata": {},
   "outputs": [
    {
     "data": {
      "text/plain": [
       "Customer ID                 58\n",
       "Gender                      58\n",
       "Age                         58\n",
       "City                        58\n",
       "Membership Type             58\n",
       "Total Spend                 58\n",
       "Items Purchased             58\n",
       "Average Rating              58\n",
       "Discount Applied            58\n",
       "Days Since Last Purchase    58\n",
       "Satisfaction Level          58\n",
       "dtype: int64"
      ]
     },
     "execution_count": 104,
     "metadata": {},
     "output_type": "execute_result"
    }
   ],
   "source": [
    "df[(df['Discount Applied'] == False) & (df['Satisfaction Level'] == 'Satisfied') & (df['Membership Type'] == 'Gold')].count()"
   ]
  },
  {
   "cell_type": "code",
   "execution_count": 106,
   "id": "8f3109ff-eefd-4d86-912e-ff8816367e84",
   "metadata": {},
   "outputs": [
    {
     "data": {
      "text/plain": [
       "Customer ID                 0\n",
       "Gender                      0\n",
       "Age                         0\n",
       "City                        0\n",
       "Membership Type             0\n",
       "Total Spend                 0\n",
       "Items Purchased             0\n",
       "Average Rating              0\n",
       "Discount Applied            0\n",
       "Days Since Last Purchase    0\n",
       "Satisfaction Level          0\n",
       "dtype: int64"
      ]
     },
     "execution_count": 106,
     "metadata": {},
     "output_type": "execute_result"
    }
   ],
   "source": [
    "df[(df['Discount Applied'] == False) & (df['Satisfaction Level'] == 'Unsatisfied') & (df['Membership Type'] == 'Gold')].count()"
   ]
  },
  {
   "cell_type": "code",
   "execution_count": 108,
   "id": "1ad4cc37-2615-422e-89c4-75a5737d1ea9",
   "metadata": {},
   "outputs": [
    {
     "data": {
      "text/plain": [
       "Customer ID                 8\n",
       "Gender                      8\n",
       "Age                         8\n",
       "City                        8\n",
       "Membership Type             8\n",
       "Total Spend                 8\n",
       "Items Purchased             8\n",
       "Average Rating              8\n",
       "Discount Applied            8\n",
       "Days Since Last Purchase    8\n",
       "Satisfaction Level          8\n",
       "dtype: int64"
      ]
     },
     "execution_count": 108,
     "metadata": {},
     "output_type": "execute_result"
    }
   ],
   "source": [
    "df[(df['Discount Applied'] == False) & (df['Satisfaction Level'] == 'Satisfied') & (df['Membership Type'] == 'Silver')].count()"
   ]
  },
  {
   "cell_type": "code",
   "execution_count": 110,
   "id": "6e2c5b6f-39b1-4e7c-a6c0-9b2ef238c0f0",
   "metadata": {},
   "outputs": [
    {
     "data": {
      "text/plain": [
       "Customer ID                 0\n",
       "Gender                      0\n",
       "Age                         0\n",
       "City                        0\n",
       "Membership Type             0\n",
       "Total Spend                 0\n",
       "Items Purchased             0\n",
       "Average Rating              0\n",
       "Discount Applied            0\n",
       "Days Since Last Purchase    0\n",
       "Satisfaction Level          0\n",
       "dtype: int64"
      ]
     },
     "execution_count": 110,
     "metadata": {},
     "output_type": "execute_result"
    }
   ],
   "source": [
    "df[(df['Discount Applied'] == False) & (df['Satisfaction Level'] == 'Unsatisfied') & (df['Membership Type'] == 'Silver')].count()"
   ]
  },
  {
   "cell_type": "code",
   "execution_count": 112,
   "id": "e6d770dd-7209-4220-b763-60ed49931f69",
   "metadata": {},
   "outputs": [
    {
     "data": {
      "text/plain": [
       "Customer ID                 0\n",
       "Gender                      0\n",
       "Age                         0\n",
       "City                        0\n",
       "Membership Type             0\n",
       "Total Spend                 0\n",
       "Items Purchased             0\n",
       "Average Rating              0\n",
       "Discount Applied            0\n",
       "Days Since Last Purchase    0\n",
       "Satisfaction Level          0\n",
       "dtype: int64"
      ]
     },
     "execution_count": 112,
     "metadata": {},
     "output_type": "execute_result"
    }
   ],
   "source": [
    "df[(df['Discount Applied'] == False) & (df['Satisfaction Level'] == 'Satisfied') & (df['Membership Type'] == 'Bronze')].count()"
   ]
  },
  {
   "cell_type": "code",
   "execution_count": 114,
   "id": "4707d198-ffa3-41ef-80c9-982ea451f667",
   "metadata": {},
   "outputs": [
    {
     "data": {
      "text/plain": [
       "Customer ID                 0\n",
       "Gender                      0\n",
       "Age                         0\n",
       "City                        0\n",
       "Membership Type             0\n",
       "Total Spend                 0\n",
       "Items Purchased             0\n",
       "Average Rating              0\n",
       "Discount Applied            0\n",
       "Days Since Last Purchase    0\n",
       "Satisfaction Level          0\n",
       "dtype: int64"
      ]
     },
     "execution_count": 114,
     "metadata": {},
     "output_type": "execute_result"
    }
   ],
   "source": [
    "df[(df['Discount Applied'] == False) & (df['Satisfaction Level'] == 'Unsatisfied') & (df['Membership Type'] == 'Bronze')].count()"
   ]
  },
  {
   "cell_type": "code",
   "execution_count": 116,
   "id": "9373684d-aa4b-422c-8171-c077f81bd26c",
   "metadata": {},
   "outputs": [
    {
     "data": {
      "text/plain": [
       "Customer ID                 0\n",
       "Gender                      0\n",
       "Age                         0\n",
       "City                        0\n",
       "Membership Type             0\n",
       "Total Spend                 0\n",
       "Items Purchased             0\n",
       "Average Rating              0\n",
       "Discount Applied            0\n",
       "Days Since Last Purchase    0\n",
       "Satisfaction Level          0\n",
       "dtype: int64"
      ]
     },
     "execution_count": 116,
     "metadata": {},
     "output_type": "execute_result"
    }
   ],
   "source": [
    "df[(df['Discount Applied'] == False) & (df['Satisfaction Level'] == 'Neutral') & (df['Membership Type'] == 'Gold')].count()"
   ]
  },
  {
   "cell_type": "code",
   "execution_count": 118,
   "id": "ab8a2b03-1b6f-40b5-87e3-303afbb26f11",
   "metadata": {},
   "outputs": [
    {
     "data": {
      "text/plain": [
       "Customer ID                 51\n",
       "Gender                      51\n",
       "Age                         51\n",
       "City                        51\n",
       "Membership Type             51\n",
       "Total Spend                 51\n",
       "Items Purchased             51\n",
       "Average Rating              51\n",
       "Discount Applied            51\n",
       "Days Since Last Purchase    51\n",
       "Satisfaction Level          51\n",
       "dtype: int64"
      ]
     },
     "execution_count": 118,
     "metadata": {},
     "output_type": "execute_result"
    }
   ],
   "source": [
    "df[(df['Discount Applied'] == False) & (df['Satisfaction Level'] == 'Neutral') & (df['Membership Type'] == 'Silver')].count()"
   ]
  },
  {
   "cell_type": "code",
   "execution_count": 120,
   "id": "367b1eae-4d37-49ba-923b-311220b6ae50",
   "metadata": {},
   "outputs": [
    {
     "data": {
      "text/plain": [
       "Customer ID                 56\n",
       "Gender                      56\n",
       "Age                         56\n",
       "City                        56\n",
       "Membership Type             56\n",
       "Total Spend                 56\n",
       "Items Purchased             56\n",
       "Average Rating              56\n",
       "Discount Applied            56\n",
       "Days Since Last Purchase    56\n",
       "Satisfaction Level          56\n",
       "dtype: int64"
      ]
     },
     "execution_count": 120,
     "metadata": {},
     "output_type": "execute_result"
    }
   ],
   "source": [
    "df[(df['Discount Applied'] == False) & (df['Satisfaction Level'] == 'Neutral') & (df['Membership Type'] == 'Bronze')].count()"
   ]
  },
  {
   "cell_type": "code",
   "execution_count": 122,
   "id": "04445841-0b46-4e71-ba73-012547d422a7",
   "metadata": {},
   "outputs": [
    {
     "data": {
      "text/html": [
       "<div>\n",
       "<style scoped>\n",
       "    .dataframe tbody tr th:only-of-type {\n",
       "        vertical-align: middle;\n",
       "    }\n",
       "\n",
       "    .dataframe tbody tr th {\n",
       "        vertical-align: top;\n",
       "    }\n",
       "\n",
       "    .dataframe thead th {\n",
       "        text-align: right;\n",
       "    }\n",
       "</style>\n",
       "<table border=\"1\" class=\"dataframe\">\n",
       "  <thead>\n",
       "    <tr style=\"text-align: right;\">\n",
       "      <th></th>\n",
       "      <th>Customer ID</th>\n",
       "      <th>Gender</th>\n",
       "      <th>Age</th>\n",
       "      <th>City</th>\n",
       "      <th>Membership Type</th>\n",
       "      <th>Total Spend</th>\n",
       "      <th>Items Purchased</th>\n",
       "      <th>Average Rating</th>\n",
       "      <th>Discount Applied</th>\n",
       "      <th>Days Since Last Purchase</th>\n",
       "      <th>Satisfaction Level</th>\n",
       "    </tr>\n",
       "  </thead>\n",
       "  <tbody>\n",
       "    <tr>\n",
       "      <th>0</th>\n",
       "      <td>101</td>\n",
       "      <td>Female</td>\n",
       "      <td>29</td>\n",
       "      <td>New York</td>\n",
       "      <td>Gold</td>\n",
       "      <td>1120.20</td>\n",
       "      <td>14</td>\n",
       "      <td>4.6</td>\n",
       "      <td>True</td>\n",
       "      <td>25</td>\n",
       "      <td>Satisfied</td>\n",
       "    </tr>\n",
       "    <tr>\n",
       "      <th>1</th>\n",
       "      <td>102</td>\n",
       "      <td>Male</td>\n",
       "      <td>34</td>\n",
       "      <td>Los Angeles</td>\n",
       "      <td>Silver</td>\n",
       "      <td>780.50</td>\n",
       "      <td>11</td>\n",
       "      <td>4.1</td>\n",
       "      <td>False</td>\n",
       "      <td>18</td>\n",
       "      <td>Neutral</td>\n",
       "    </tr>\n",
       "    <tr>\n",
       "      <th>2</th>\n",
       "      <td>103</td>\n",
       "      <td>Female</td>\n",
       "      <td>43</td>\n",
       "      <td>Chicago</td>\n",
       "      <td>Bronze</td>\n",
       "      <td>510.75</td>\n",
       "      <td>9</td>\n",
       "      <td>3.4</td>\n",
       "      <td>True</td>\n",
       "      <td>42</td>\n",
       "      <td>Unsatisfied</td>\n",
       "    </tr>\n",
       "    <tr>\n",
       "      <th>3</th>\n",
       "      <td>104</td>\n",
       "      <td>Male</td>\n",
       "      <td>30</td>\n",
       "      <td>San Francisco</td>\n",
       "      <td>Gold</td>\n",
       "      <td>1480.30</td>\n",
       "      <td>19</td>\n",
       "      <td>4.7</td>\n",
       "      <td>False</td>\n",
       "      <td>12</td>\n",
       "      <td>Satisfied</td>\n",
       "    </tr>\n",
       "    <tr>\n",
       "      <th>4</th>\n",
       "      <td>105</td>\n",
       "      <td>Male</td>\n",
       "      <td>27</td>\n",
       "      <td>Miami</td>\n",
       "      <td>Silver</td>\n",
       "      <td>720.40</td>\n",
       "      <td>13</td>\n",
       "      <td>4.0</td>\n",
       "      <td>True</td>\n",
       "      <td>55</td>\n",
       "      <td>Unsatisfied</td>\n",
       "    </tr>\n",
       "    <tr>\n",
       "      <th>...</th>\n",
       "      <td>...</td>\n",
       "      <td>...</td>\n",
       "      <td>...</td>\n",
       "      <td>...</td>\n",
       "      <td>...</td>\n",
       "      <td>...</td>\n",
       "      <td>...</td>\n",
       "      <td>...</td>\n",
       "      <td>...</td>\n",
       "      <td>...</td>\n",
       "      <td>...</td>\n",
       "    </tr>\n",
       "    <tr>\n",
       "      <th>345</th>\n",
       "      <td>446</td>\n",
       "      <td>Male</td>\n",
       "      <td>32</td>\n",
       "      <td>Miami</td>\n",
       "      <td>Silver</td>\n",
       "      <td>660.30</td>\n",
       "      <td>10</td>\n",
       "      <td>3.8</td>\n",
       "      <td>True</td>\n",
       "      <td>42</td>\n",
       "      <td>Unsatisfied</td>\n",
       "    </tr>\n",
       "    <tr>\n",
       "      <th>346</th>\n",
       "      <td>447</td>\n",
       "      <td>Female</td>\n",
       "      <td>36</td>\n",
       "      <td>Houston</td>\n",
       "      <td>Bronze</td>\n",
       "      <td>470.50</td>\n",
       "      <td>8</td>\n",
       "      <td>3.0</td>\n",
       "      <td>False</td>\n",
       "      <td>27</td>\n",
       "      <td>Neutral</td>\n",
       "    </tr>\n",
       "    <tr>\n",
       "      <th>347</th>\n",
       "      <td>448</td>\n",
       "      <td>Female</td>\n",
       "      <td>30</td>\n",
       "      <td>New York</td>\n",
       "      <td>Gold</td>\n",
       "      <td>1190.80</td>\n",
       "      <td>16</td>\n",
       "      <td>4.5</td>\n",
       "      <td>True</td>\n",
       "      <td>28</td>\n",
       "      <td>Satisfied</td>\n",
       "    </tr>\n",
       "    <tr>\n",
       "      <th>348</th>\n",
       "      <td>449</td>\n",
       "      <td>Male</td>\n",
       "      <td>34</td>\n",
       "      <td>Los Angeles</td>\n",
       "      <td>Silver</td>\n",
       "      <td>780.20</td>\n",
       "      <td>11</td>\n",
       "      <td>4.2</td>\n",
       "      <td>False</td>\n",
       "      <td>21</td>\n",
       "      <td>Neutral</td>\n",
       "    </tr>\n",
       "    <tr>\n",
       "      <th>349</th>\n",
       "      <td>450</td>\n",
       "      <td>Female</td>\n",
       "      <td>43</td>\n",
       "      <td>Chicago</td>\n",
       "      <td>Bronze</td>\n",
       "      <td>515.75</td>\n",
       "      <td>10</td>\n",
       "      <td>3.3</td>\n",
       "      <td>True</td>\n",
       "      <td>49</td>\n",
       "      <td>Unsatisfied</td>\n",
       "    </tr>\n",
       "  </tbody>\n",
       "</table>\n",
       "<p>348 rows × 11 columns</p>\n",
       "</div>"
      ],
      "text/plain": [
       "     Customer ID  Gender  Age           City Membership Type  Total Spend  \\\n",
       "0            101  Female   29       New York            Gold      1120.20   \n",
       "1            102    Male   34    Los Angeles          Silver       780.50   \n",
       "2            103  Female   43        Chicago          Bronze       510.75   \n",
       "3            104    Male   30  San Francisco            Gold      1480.30   \n",
       "4            105    Male   27          Miami          Silver       720.40   \n",
       "..           ...     ...  ...            ...             ...          ...   \n",
       "345          446    Male   32          Miami          Silver       660.30   \n",
       "346          447  Female   36        Houston          Bronze       470.50   \n",
       "347          448  Female   30       New York            Gold      1190.80   \n",
       "348          449    Male   34    Los Angeles          Silver       780.20   \n",
       "349          450  Female   43        Chicago          Bronze       515.75   \n",
       "\n",
       "     Items Purchased  Average Rating  Discount Applied  \\\n",
       "0                 14             4.6              True   \n",
       "1                 11             4.1             False   \n",
       "2                  9             3.4              True   \n",
       "3                 19             4.7             False   \n",
       "4                 13             4.0              True   \n",
       "..               ...             ...               ...   \n",
       "345               10             3.8              True   \n",
       "346                8             3.0             False   \n",
       "347               16             4.5              True   \n",
       "348               11             4.2             False   \n",
       "349               10             3.3              True   \n",
       "\n",
       "     Days Since Last Purchase Satisfaction Level  \n",
       "0                          25          Satisfied  \n",
       "1                          18            Neutral  \n",
       "2                          42        Unsatisfied  \n",
       "3                          12          Satisfied  \n",
       "4                          55        Unsatisfied  \n",
       "..                        ...                ...  \n",
       "345                        42        Unsatisfied  \n",
       "346                        27            Neutral  \n",
       "347                        28          Satisfied  \n",
       "348                        21            Neutral  \n",
       "349                        49        Unsatisfied  \n",
       "\n",
       "[348 rows x 11 columns]"
      ]
     },
     "execution_count": 122,
     "metadata": {},
     "output_type": "execute_result"
    }
   ],
   "source": [
    "df"
   ]
  },
  {
   "cell_type": "code",
   "execution_count": 124,
   "id": "41e566ec-5df5-4ea5-a572-c783a6ed34a0",
   "metadata": {},
   "outputs": [
    {
     "data": {
      "text/plain": [
       "Customer ID                 0\n",
       "Gender                      0\n",
       "Age                         0\n",
       "City                        0\n",
       "Membership Type             0\n",
       "Total Spend                 0\n",
       "Items Purchased             0\n",
       "Average Rating              0\n",
       "Discount Applied            0\n",
       "Days Since Last Purchase    0\n",
       "Satisfaction Level          0\n",
       "dtype: int64"
      ]
     },
     "execution_count": 124,
     "metadata": {},
     "output_type": "execute_result"
    }
   ],
   "source": [
    "df[(df['Items Purchased'] >= 1 )&\n",
    "( df['Items Purchased'] <= 5) & \n",
    "(df['Discount Applied'] == True) &\n",
    "(df['Membership Type'] == 'Gold') &\n",
    "(df['Satisfaction Level'] == 'Satisfied')].count()"
   ]
  },
  {
   "cell_type": "code",
   "execution_count": 126,
   "id": "8d538a72-c555-4bdf-8594-68609c5f3014",
   "metadata": {},
   "outputs": [
    {
     "data": {
      "text/plain": [
       "Customer ID                 0\n",
       "Gender                      0\n",
       "Age                         0\n",
       "City                        0\n",
       "Membership Type             0\n",
       "Total Spend                 0\n",
       "Items Purchased             0\n",
       "Average Rating              0\n",
       "Discount Applied            0\n",
       "Days Since Last Purchase    0\n",
       "Satisfaction Level          0\n",
       "dtype: int64"
      ]
     },
     "execution_count": 126,
     "metadata": {},
     "output_type": "execute_result"
    }
   ],
   "source": [
    "df[(df['Items Purchased'] >= 6 )&\n",
    "( df['Items Purchased'] <= 11) & \n",
    "(df['Discount Applied'] == True) &\n",
    "(df['Membership Type'] == 'Gold') &\n",
    "(df['Satisfaction Level'] == 'Satisfied')].count()"
   ]
  },
  {
   "cell_type": "code",
   "execution_count": 128,
   "id": "ec55fc11-1b8c-4592-b3c5-1109b5a01567",
   "metadata": {},
   "outputs": [
    {
     "data": {
      "text/plain": [
       "Customer ID                 59\n",
       "Gender                      59\n",
       "Age                         59\n",
       "City                        59\n",
       "Membership Type             59\n",
       "Total Spend                 59\n",
       "Items Purchased             59\n",
       "Average Rating              59\n",
       "Discount Applied            59\n",
       "Days Since Last Purchase    59\n",
       "Satisfaction Level          59\n",
       "dtype: int64"
      ]
     },
     "execution_count": 128,
     "metadata": {},
     "output_type": "execute_result"
    }
   ],
   "source": [
    "df[(df['Items Purchased'] >= 10)&\n",
    "( df['Items Purchased'] <= 22) & \n",
    "(df['Discount Applied'] == True) &\n",
    "(df['Membership Type'] == 'Gold') &\n",
    "(df['Satisfaction Level'] == 'Satisfied')].count()"
   ]
  },
  {
   "cell_type": "code",
   "execution_count": 130,
   "id": "48388341-145c-4492-ab47-31e9dd160dd2",
   "metadata": {},
   "outputs": [
    {
     "data": {
      "text/plain": [
       "Customer ID                 0\n",
       "Gender                      0\n",
       "Age                         0\n",
       "City                        0\n",
       "Membership Type             0\n",
       "Total Spend                 0\n",
       "Items Purchased             0\n",
       "Average Rating              0\n",
       "Discount Applied            0\n",
       "Days Since Last Purchase    0\n",
       "Satisfaction Level          0\n",
       "dtype: int64"
      ]
     },
     "execution_count": 130,
     "metadata": {},
     "output_type": "execute_result"
    }
   ],
   "source": [
    "df[(df['Items Purchased'] >= 1)&\n",
    "( df['Items Purchased'] <= 5) & \n",
    "(df['Discount Applied'] == True) &\n",
    "(df['Membership Type'] == 'Gold') &\n",
    "(df['Satisfaction Level'] == 'Unsatisfied')].count()"
   ]
  },
  {
   "cell_type": "code",
   "execution_count": 132,
   "id": "40a5366f-b674-4cf5-9655-5a3b4dd75767",
   "metadata": {},
   "outputs": [
    {
     "data": {
      "text/plain": [
       "Customer ID                 0\n",
       "Gender                      0\n",
       "Age                         0\n",
       "City                        0\n",
       "Membership Type             0\n",
       "Total Spend                 0\n",
       "Items Purchased             0\n",
       "Average Rating              0\n",
       "Discount Applied            0\n",
       "Days Since Last Purchase    0\n",
       "Satisfaction Level          0\n",
       "dtype: int64"
      ]
     },
     "execution_count": 132,
     "metadata": {},
     "output_type": "execute_result"
    }
   ],
   "source": [
    "df[(df['Items Purchased'] >= 5)&\n",
    "( df['Items Purchased'] <= 10) & \n",
    "(df['Discount Applied'] == True) &\n",
    "(df['Membership Type'] == 'Gold') &\n",
    "(df['Satisfaction Level'] == 'Unsatisfied')].count()"
   ]
  },
  {
   "cell_type": "code",
   "execution_count": 134,
   "id": "e9fe0589-7670-4f09-a4c6-e95249f472ec",
   "metadata": {},
   "outputs": [
    {
     "data": {
      "text/plain": [
       "Customer ID                 0\n",
       "Gender                      0\n",
       "Age                         0\n",
       "City                        0\n",
       "Membership Type             0\n",
       "Total Spend                 0\n",
       "Items Purchased             0\n",
       "Average Rating              0\n",
       "Discount Applied            0\n",
       "Days Since Last Purchase    0\n",
       "Satisfaction Level          0\n",
       "dtype: int64"
      ]
     },
     "execution_count": 134,
     "metadata": {},
     "output_type": "execute_result"
    }
   ],
   "source": [
    "df[(df['Items Purchased'] >= 11)&\n",
    "( df['Items Purchased'] <= 15) & \n",
    "(df['Discount Applied'] == True) &\n",
    "(df['Membership Type'] == 'Gold') &\n",
    "(df['Satisfaction Level'] == 'Unsatisfied')].count()"
   ]
  },
  {
   "cell_type": "code",
   "execution_count": 136,
   "id": "ce5858f4-d748-41a4-88dc-eb0ff86835e9",
   "metadata": {},
   "outputs": [
    {
     "data": {
      "text/plain": [
       "Customer ID                 0\n",
       "Gender                      0\n",
       "Age                         0\n",
       "City                        0\n",
       "Membership Type             0\n",
       "Total Spend                 0\n",
       "Items Purchased             0\n",
       "Average Rating              0\n",
       "Discount Applied            0\n",
       "Days Since Last Purchase    0\n",
       "Satisfaction Level          0\n",
       "dtype: int64"
      ]
     },
     "execution_count": 136,
     "metadata": {},
     "output_type": "execute_result"
    }
   ],
   "source": [
    "df[(df['Items Purchased'] >= 16)&\n",
    "( df['Items Purchased'] <= 20) & \n",
    "(df['Discount Applied'] == True) &\n",
    "(df['Membership Type'] == 'Gold') &\n",
    "(df['Satisfaction Level'] == 'Unsatisfied')].count()"
   ]
  },
  {
   "cell_type": "code",
   "execution_count": 138,
   "id": "5e20121a-def1-404e-8c80-4842de91ef98",
   "metadata": {},
   "outputs": [
    {
     "data": {
      "text/plain": [
       "Customer ID                 0\n",
       "Gender                      0\n",
       "Age                         0\n",
       "City                        0\n",
       "Membership Type             0\n",
       "Total Spend                 0\n",
       "Items Purchased             0\n",
       "Average Rating              0\n",
       "Discount Applied            0\n",
       "Days Since Last Purchase    0\n",
       "Satisfaction Level          0\n",
       "dtype: int64"
      ]
     },
     "execution_count": 138,
     "metadata": {},
     "output_type": "execute_result"
    }
   ],
   "source": [
    "df[(df['Items Purchased'] >= 20)&\n",
    "( df['Items Purchased'] <= 25) & \n",
    "(df['Discount Applied'] == True) &\n",
    "(df['Membership Type'] == 'Gold') &\n",
    "(df['Satisfaction Level'] == 'Unsatisfied')].count()"
   ]
  },
  {
   "cell_type": "code",
   "execution_count": 140,
   "id": "37bd0e5e-fc58-4356-91df-13dd13cf7520",
   "metadata": {},
   "outputs": [
    {
     "data": {
      "text/plain": [
       "<seaborn.axisgrid.FacetGrid at 0x137508fd0>"
      ]
     },
     "execution_count": 140,
     "metadata": {},
     "output_type": "execute_result"
    },
    {
     "data": {
      "image/png": "[encoded data removed]",
      "text/plain": [
       "<Figure size 500x500 with 1 Axes>"
      ]
     },
     "metadata": {},
     "output_type": "display_data"
    }
   ],
   "source": [
    "sns.displot(data = df,\n",
    "           x = df['Membership Type'],\n",
    "           y = df['Items Purchased'],\n",
    "           color = 'green')"
   ]
  },
  {
   "cell_type": "code",
   "execution_count": 150,
   "id": "04f8b684-5bb4-4327-b550-969975783ed5",
   "metadata": {},
   "outputs": [
    {
     "data": {
      "text/plain": [
       "<function matplotlib.pyplot.show(close=None, block=None)>"
      ]
     },
     "execution_count": 150,
     "metadata": {},
     "output_type": "execute_result"
    },
    {
     "data": {
      "image/png": "[encoded data removed]",
      "text/plain": [
       "<Figure size 640x480 with 1 Axes>"
      ]
     },
     "metadata": {},
     "output_type": "display_data"
    }
   ],
   "source": [
    "plt.scatter(df['Gender'],\n",
    "            df['Items Purchased'],\n",
    "    color = 'Green',\n",
    "    marker = '+')\n",
    "\n",
    "plt.title('Grouping the customer behalf on GENDER vs ITEMS PURCHASED')\n",
    "\n",
    "plt.show"
   ]
  },
  {
   "cell_type": "code",
   "execution_count": 157,
   "id": "35b86bc3-e57a-4547-871d-813eb397e910",
   "metadata": {},
   "outputs": [],
   "source": [
    "from sklearn.cluster import KMeans"
   ]
  },
  {
   "cell_type": "code",
   "execution_count": 159,
   "id": "014a4109-d5d8-48c6-b49c-6cfd4903dbc9",
   "metadata": {},
   "outputs": [],
   "source": [
    "km = KMeans(n_clusters=3)"
   ]
  },
  {
   "cell_type": "code",
   "execution_count": 161,
   "id": "97a3b445-8dac-44f7-9c56-df608f0a0b8c",
   "metadata": {},
   "outputs": [
    {
     "name": "stderr",
     "output_type": "stream",
     "text": [
      "/Users/amanchauhan/anaconda3/lib/python3.11/site-packages/sklearn/cluster/_kmeans.py:1412: FutureWarning: The default value of `n_init` will change from 10 to 'auto' in 1.4. Set the value of `n_init` explicitly to suppress the warning\n",
      "  super()._check_params_vs_input(X, default_n_init=10)\n"
     ]
    }
   ],
   "source": [
    "y_predict = km.fit_predict(df_num[['Membership Type','Total Spend']])"
   ]
  },
  {
   "cell_type": "code",
   "execution_count": 163,
   "id": "8c15b371-9888-42f9-ab4d-e78084a37c40",
   "metadata": {},
   "outputs": [
    {
     "data": {
      "text/plain": [
       "array([0, 2, 1, 0, 2, 1, 0, 2, 1, 0, 2, 1, 0, 2, 1, 0, 2, 1, 0, 2, 1, 0,\n",
       "       2, 1, 0, 2, 1, 0, 2, 1, 0, 2, 1, 0, 2, 1, 0, 2, 1, 0, 2, 1, 0, 2,\n",
       "       1, 0, 2, 1, 0, 2, 1, 0, 2, 1, 0, 2, 1, 0, 2, 1, 0, 2, 1, 0, 2, 1,\n",
       "       0, 2, 1, 0, 2, 0, 2, 1, 0, 2, 1, 0, 2, 1, 0, 2, 1, 0, 2, 1, 0, 2,\n",
       "       1, 0, 2, 1, 0, 2, 1, 0, 2, 1, 0, 2, 1, 0, 2, 1, 0, 2, 1, 0, 2, 1,\n",
       "       0, 2, 1, 0, 2, 1, 0, 2, 1, 0, 2, 1, 0, 2, 1, 0, 2, 1, 0, 2, 1, 0,\n",
       "       2, 1, 0, 2, 1, 0, 2, 1, 0, 2, 0, 2, 1, 0, 2, 1, 0, 2, 1, 0, 2, 1,\n",
       "       0, 2, 1, 0, 2, 1, 0, 2, 1, 0, 2, 1, 0, 2, 1, 0, 2, 1, 0, 2, 1, 0,\n",
       "       2, 1, 0, 2, 1, 0, 2, 1, 0, 2, 1, 0, 2, 1, 0, 2, 1, 0, 2, 1, 0, 2,\n",
       "       0, 2, 1, 0, 2, 1, 0, 2, 1, 0, 2, 1, 0, 2, 1, 0, 2, 1, 0, 2, 1, 0,\n",
       "       2, 1, 0, 2, 1, 0, 2, 1, 0, 2, 1, 0, 2, 1, 0, 2, 1, 0, 2, 1, 0, 2,\n",
       "       1, 0, 2, 1, 0, 2, 1, 0, 2, 1, 0, 2, 1, 0, 2, 1, 0, 2, 1, 0, 2, 1,\n",
       "       0, 2, 1, 0, 2, 1, 0, 2, 1, 0, 2, 1, 0, 2, 1, 0, 2, 1, 0, 2, 1, 0,\n",
       "       2, 1, 0, 2, 1, 0, 2, 1, 0, 2, 1, 0, 2, 1, 0, 2, 1, 0, 2, 1, 0, 2,\n",
       "       1, 0, 2, 1, 0, 2, 1, 0, 2, 1, 0, 2, 1, 0, 2, 1, 0, 2, 1, 0, 2, 1,\n",
       "       0, 2, 1, 0, 2, 1, 0, 2, 1, 0, 2, 1, 0, 2, 1, 0, 2, 1], dtype=int32)"
      ]
     },
     "execution_count": 163,
     "metadata": {},
     "output_type": "execute_result"
    }
   ],
   "source": [
    "y_predict"
   ]
  },
  {
   "cell_type": "code",
   "execution_count": 165,
   "id": "7d9afe10-c493-4c5a-865a-1ce4d44de09b",
   "metadata": {},
   "outputs": [],
   "source": [
    "df_num['Clusters'] = y_predict"
   ]
  },
  {
   "cell_type": "code",
   "execution_count": 169,
   "id": "248c4b5d-a2e9-4340-807b-d8b0e0e14e87",
   "metadata": {},
   "outputs": [
    {
     "data": {
      "text/plain": [
       "0      0\n",
       "1      2\n",
       "2      1\n",
       "3      0\n",
       "4      2\n",
       "      ..\n",
       "345    2\n",
       "346    1\n",
       "347    0\n",
       "348    2\n",
       "349    1\n",
       "Name: Clusters, Length: 348, dtype: int32"
      ]
     },
     "execution_count": 169,
     "metadata": {},
     "output_type": "execute_result"
    }
   ],
   "source": [
    "df_num['Clusters']"
   ]
  },
  {
   "cell_type": "code",
   "execution_count": 171,
   "id": "f9abbbe1-5f5a-4d34-9047-67bb62929738",
   "metadata": {},
   "outputs": [],
   "source": [
    "centers = km.cluster_centers_"
   ]
  },
  {
   "cell_type": "code",
   "execution_count": 173,
   "id": "896d1c63-1423-4b0e-ae89-8b899020c9b2",
   "metadata": {},
   "outputs": [
    {
     "data": {
      "text/plain": [
       "array([[4.44089210e-16, 1.31114444e+03],\n",
       "       [2.00000000e+00, 4.74223684e+02],\n",
       "       [1.00000000e+00, 7.48432479e+02]])"
      ]
     },
     "execution_count": 173,
     "metadata": {},
     "output_type": "execute_result"
    }
   ],
   "source": [
    "centers"
   ]
  },
  {
   "cell_type": "code",
   "execution_count": 175,
   "id": "36ccde7c-f5ea-43ef-82d2-b3733638fc41",
   "metadata": {},
   "outputs": [],
   "source": [
    "x = centers[:,0]"
   ]
  },
  {
   "cell_type": "code",
   "execution_count": 177,
   "id": "565f9518-b21c-4320-b6c5-96cbd26118e9",
   "metadata": {},
   "outputs": [],
   "source": [
    "y = centers[:,1]"
   ]
  },
  {
   "cell_type": "code",
   "execution_count": 179,
   "id": "2ff6bfc4-429f-446a-bcff-b3121fd6c16e",
   "metadata": {},
   "outputs": [
    {
     "data": {
      "text/plain": [
       "array([4.4408921e-16, 2.0000000e+00, 1.0000000e+00])"
      ]
     },
     "execution_count": 179,
     "metadata": {},
     "output_type": "execute_result"
    }
   ],
   "source": [
    "x"
   ]
  },
  {
   "cell_type": "code",
   "execution_count": 181,
   "id": "d7e2ccda-3f0a-40f4-9e54-7a7e9554a839",
   "metadata": {},
   "outputs": [
    {
     "data": {
      "text/plain": [
       "array([1311.14444444,  474.22368421,  748.43247863])"
      ]
     },
     "execution_count": 181,
     "metadata": {},
     "output_type": "execute_result"
    }
   ],
   "source": [
    "y"
   ]
  },
  {
   "cell_type": "code",
   "execution_count": 183,
   "id": "ddb4903b-7769-4d57-bdcb-7ec120a675c1",
   "metadata": {},
   "outputs": [],
   "source": [
    "df_1 = df_num[df_num['Clusters'] == 0]"
   ]
  },
  {
   "cell_type": "code",
   "execution_count": 185,
   "id": "1538ed79-8484-4e26-b950-e6bf5a3c3390",
   "metadata": {},
   "outputs": [],
   "source": [
    "df_2 = df_num[df_num['Clusters'] == 1]"
   ]
  },
  {
   "cell_type": "code",
   "execution_count": 187,
   "id": "cc441503-0cde-4957-ae78-097388624eb5",
   "metadata": {},
   "outputs": [],
   "source": [
    "df_3 = df_num[df_num['Clusters'] == 2]"
   ]
  },
  {
   "cell_type": "code",
   "execution_count": 201,
   "id": "bdc12f06-c71e-4398-b548-e777f4764e16",
   "metadata": {},
   "outputs": [
    {
     "data": {
      "text/plain": [
       "117"
      ]
     },
     "execution_count": 201,
     "metadata": {},
     "output_type": "execute_result"
    }
   ],
   "source": [
    "len(df_1)"
   ]
  },
  {
   "cell_type": "code",
   "execution_count": 203,
   "id": "95058d5b-2286-4975-863a-b28c94028e26",
   "metadata": {},
   "outputs": [
    {
     "data": {
      "text/plain": [
       "114"
      ]
     },
     "execution_count": 203,
     "metadata": {},
     "output_type": "execute_result"
    }
   ],
   "source": [
    "len(df_2)"
   ]
  },
  {
   "cell_type": "code",
   "execution_count": 205,
   "id": "09b53029-b259-4d95-acc2-be09471de327",
   "metadata": {},
   "outputs": [
    {
     "data": {
      "text/plain": [
       "117"
      ]
     },
     "execution_count": 205,
     "metadata": {},
     "output_type": "execute_result"
    }
   ],
   "source": [
    "len(df_3)"
   ]
  },
  {
   "cell_type": "code",
   "execution_count": 215,
   "id": "01dd9e81-35c6-4241-9a85-66ae9c12f883",
   "metadata": {},
   "outputs": [
    {
     "data": {
      "text/plain": [
       "Text(0.5, 1.0, 'MEMEBERTYPE VS TOTAL SPEND = 0 = GOLD = Silver = 1, Bronze = 2 ')"
      ]
     },
     "execution_count": 215,
     "metadata": {},
     "output_type": "execute_result"
    },
    {
     "data": {
      "image/png": "[encoded data removed]",
      "text/plain": [
       "<Figure size 640x480 with 1 Axes>"
      ]
     },
     "metadata": {},
     "output_type": "display_data"
    }
   ],
   "source": [
    "plt.scatter(x = df_1['Membership Type'],\n",
    "           y = df_1['Total Spend'],\n",
    "           color = 'red',\n",
    "           marker='+' )\n",
    "\n",
    "plt.scatter(x = df_2['Membership Type'],\n",
    "           y = df_2['Total Spend'],\n",
    "           color = 'green',\n",
    "           marker='+' )\n",
    "\n",
    "plt.scatter(x = df_3['Membership Type'],\n",
    "           y = df_3['Total Spend'],\n",
    "           color = 'blue',\n",
    "           marker='+' )\n",
    "\n",
    "plt.scatter(x = x ,\n",
    "           y = y ,\n",
    "           color = 'cyan',\n",
    "           label = 'centroied',\n",
    "           marker='*')\n",
    "plt.title('MEMEBERTYPE VS TOTAL SPEND = 0 = GOLD = Silver = 1, Bronze = 2 ')"
   ]
  },
  {
   "cell_type": "code",
   "execution_count": 217,
   "id": "8f71ec4d-ca0c-47ef-8fd9-0b55babf73d5",
   "metadata": {},
   "outputs": [],
   "source": [
    "from sklearn.preprocessing import MinMaxScaler"
   ]
  },
  {
   "cell_type": "code",
   "execution_count": 219,
   "id": "f211b3cf-0837-4ab0-a383-9f91c425a7f9",
   "metadata": {},
   "outputs": [],
   "source": [
    "ms = MinMaxScaler()"
   ]
  },
  {
   "cell_type": "code",
   "execution_count": 221,
   "id": "f4a8f706-e2d1-481a-a72e-e5ffab824914",
   "metadata": {},
   "outputs": [
    {
     "data": {
      "text/html": [
       "<style>#sk-container-id-1 {color: black;}#sk-container-id-1 pre{padding: 0;}#sk-container-id-1 div.sk-toggleable {background-color: white;}#sk-container-id-1 label.sk-toggleable__label {cursor: pointer;display: block;width: 100%;margin-bottom: 0;padding: 0.3em;box-sizing: border-box;text-align: center;}#sk-container-id-1 label.sk-toggleable__label-arrow:before {content: \"▸\";float: left;margin-right: 0.25em;color: #696969;}#sk-container-id-1 label.sk-toggleable__label-arrow:hover:before {color: black;}#sk-container-id-1 div.sk-estimator:hover label.sk-toggleable__label-arrow:before {color: black;}#sk-container-id-1 div.sk-toggleable__content {max-height: 0;max-width: 0;overflow: hidden;text-align: left;background-color: #f0f8ff;}#sk-container-id-1 div.sk-toggleable__content pre {margin: 0.2em;color: black;border-radius: 0.25em;background-color: #f0f8ff;}#sk-container-id-1 input.sk-toggleable__control:checked~div.sk-toggleable__content {max-height: 200px;max-width: 100%;overflow: auto;}#sk-container-id-1 input.sk-toggleable__control:checked~label.sk-toggleable__label-arrow:before {content: \"▾\";}#sk-container-id-1 div.sk-estimator input.sk-toggleable__control:checked~label.sk-toggleable__label {background-color: #d4ebff;}#sk-container-id-1 div.sk-label input.sk-toggleable__control:checked~label.sk-toggleable__label {background-color: #d4ebff;}#sk-container-id-1 input.sk-hidden--visually {border: 0;clip: rect(1px 1px 1px 1px);clip: rect(1px, 1px, 1px, 1px);height: 1px;margin: -1px;overflow: hidden;padding: 0;position: absolute;width: 1px;}#sk-container-id-1 div.sk-estimator {font-family: monospace;background-color: #f0f8ff;border: 1px dotted black;border-radius: 0.25em;box-sizing: border-box;margin-bottom: 0.5em;}#sk-container-id-1 div.sk-estimator:hover {background-color: #d4ebff;}#sk-container-id-1 div.sk-parallel-item::after {content: \"\";width: 100%;border-bottom: 1px solid gray;flex-grow: 1;}#sk-container-id-1 div.sk-label:hover label.sk-toggleable__label {background-color: #d4ebff;}#sk-container-id-1 div.sk-serial::before {content: \"\";position: absolute;border-left: 1px solid gray;box-sizing: border-box;top: 0;bottom: 0;left: 50%;z-index: 0;}#sk-container-id-1 div.sk-serial {display: flex;flex-direction: column;align-items: center;background-color: white;padding-right: 0.2em;padding-left: 0.2em;position: relative;}#sk-container-id-1 div.sk-item {position: relative;z-index: 1;}#sk-container-id-1 div.sk-parallel {display: flex;align-items: stretch;justify-content: center;background-color: white;position: relative;}#sk-container-id-1 div.sk-item::before, #sk-container-id-1 div.sk-parallel-item::before {content: \"\";position: absolute;border-left: 1px solid gray;box-sizing: border-box;top: 0;bottom: 0;left: 50%;z-index: -1;}#sk-container-id-1 div.sk-parallel-item {display: flex;flex-direction: column;z-index: 1;position: relative;background-color: white;}#sk-container-id-1 div.sk-parallel-item:first-child::after {align-self: flex-end;width: 50%;}#sk-container-id-1 div.sk-parallel-item:last-child::after {align-self: flex-start;width: 50%;}#sk-container-id-1 div.sk-parallel-item:only-child::after {width: 0;}#sk-container-id-1 div.sk-dashed-wrapped {border: 1px dashed gray;margin: 0 0.4em 0.5em 0.4em;box-sizing: border-box;padding-bottom: 0.4em;background-color: white;}#sk-container-id-1 div.sk-label label {font-family: monospace;font-weight: bold;display: inline-block;line-height: 1.2em;}#sk-container-id-1 div.sk-label-container {text-align: center;}#sk-container-id-1 div.sk-container {/* jupyter's `normalize.less` sets `[hidden] { display: none; }` but bootstrap.min.css set `[hidden] { display: none !important; }` so we also need the `!important` here to be able to override the default hidden behavior on the sphinx rendered scikit-learn.org. See: https://github.com/scikit-learn/scikit-learn/issues/21755 */display: inline-block !important;position: relative;}#sk-container-id-1 div.sk-text-repr-fallback {display: none;}</style><div id=\"sk-container-id-1\" class=\"sk-top-container\"><div class=\"sk-text-repr-fallback\"><pre>MinMaxScaler()</pre><b>In a Jupyter environment, please rerun this cell to show the HTML representation or trust the notebook. <br />On GitHub, the HTML representation is unable to render, please try loading this page with nbviewer.org.</b></div><div class=\"sk-container\" hidden><div class=\"sk-item\"><div class=\"sk-estimator sk-toggleable\"><input class=\"sk-toggleable__control sk-hidden--visually\" id=\"sk-estimator-id-1\" type=\"checkbox\" checked><label for=\"sk-estimator-id-1\" class=\"sk-toggleable__label sk-toggleable__label-arrow\">MinMaxScaler</label><div class=\"sk-toggleable__content\"><pre>MinMaxScaler()</pre></div></div></div></div></div>"
      ],
      "text/plain": [
       "MinMaxScaler()"
      ]
     },
     "execution_count": 221,
     "metadata": {},
     "output_type": "execute_result"
    }
   ],
   "source": [
    "ms.fit(df_num[['Membership Type']])"
   ]
  },
  {
   "cell_type": "code",
   "execution_count": 223,
   "id": "39ffd1f4-2444-4b2d-8be1-2b522a2558df",
   "metadata": {},
   "outputs": [],
   "source": [
    "df_num['Membership Type'] = ms.fit_transform(df_num[['Membership Type']])"
   ]
  },
  {
   "cell_type": "code",
   "execution_count": 225,
   "id": "cd1c6a4a-7244-4e95-aa8a-ba7be8df1398",
   "metadata": {},
   "outputs": [
    {
     "data": {
      "text/plain": [
       "0      0.0\n",
       "1      0.5\n",
       "2      1.0\n",
       "3      0.0\n",
       "4      0.5\n",
       "      ... \n",
       "345    0.5\n",
       "346    1.0\n",
       "347    0.0\n",
       "348    0.5\n",
       "349    1.0\n",
       "Name: Membership Type, Length: 348, dtype: float64"
      ]
     },
     "execution_count": 225,
     "metadata": {},
     "output_type": "execute_result"
    }
   ],
   "source": [
    "df_num['Membership Type']"
   ]
  },
  {
   "cell_type": "code",
   "execution_count": 227,
   "id": "aae717fd-e9a5-47c6-ade7-9ad7a204a30b",
   "metadata": {},
   "outputs": [
    {
     "data": {
      "text/html": [
       "<style>#sk-container-id-2 {color: black;}#sk-container-id-2 pre{padding: 0;}#sk-container-id-2 div.sk-toggleable {background-color: white;}#sk-container-id-2 label.sk-toggleable__label {cursor: pointer;display: block;width: 100%;margin-bottom: 0;padding: 0.3em;box-sizing: border-box;text-align: center;}#sk-container-id-2 label.sk-toggleable__label-arrow:before {content: \"▸\";float: left;margin-right: 0.25em;color: #696969;}#sk-container-id-2 label.sk-toggleable__label-arrow:hover:before {color: black;}#sk-container-id-2 div.sk-estimator:hover label.sk-toggleable__label-arrow:before {color: black;}#sk-container-id-2 div.sk-toggleable__content {max-height: 0;max-width: 0;overflow: hidden;text-align: left;background-color: #f0f8ff;}#sk-container-id-2 div.sk-toggleable__content pre {margin: 0.2em;color: black;border-radius: 0.25em;background-color: #f0f8ff;}#sk-container-id-2 input.sk-toggleable__control:checked~div.sk-toggleable__content {max-height: 200px;max-width: 100%;overflow: auto;}#sk-container-id-2 input.sk-toggleable__control:checked~label.sk-toggleable__label-arrow:before {content: \"▾\";}#sk-container-id-2 div.sk-estimator input.sk-toggleable__control:checked~label.sk-toggleable__label {background-color: #d4ebff;}#sk-container-id-2 div.sk-label input.sk-toggleable__control:checked~label.sk-toggleable__label {background-color: #d4ebff;}#sk-container-id-2 input.sk-hidden--visually {border: 0;clip: rect(1px 1px 1px 1px);clip: rect(1px, 1px, 1px, 1px);height: 1px;margin: -1px;overflow: hidden;padding: 0;position: absolute;width: 1px;}#sk-container-id-2 div.sk-estimator {font-family: monospace;background-color: #f0f8ff;border: 1px dotted black;border-radius: 0.25em;box-sizing: border-box;margin-bottom: 0.5em;}#sk-container-id-2 div.sk-estimator:hover {background-color: #d4ebff;}#sk-container-id-2 div.sk-parallel-item::after {content: \"\";width: 100%;border-bottom: 1px solid gray;flex-grow: 1;}#sk-container-id-2 div.sk-label:hover label.sk-toggleable__label {background-color: #d4ebff;}#sk-container-id-2 div.sk-serial::before {content: \"\";position: absolute;border-left: 1px solid gray;box-sizing: border-box;top: 0;bottom: 0;left: 50%;z-index: 0;}#sk-container-id-2 div.sk-serial {display: flex;flex-direction: column;align-items: center;background-color: white;padding-right: 0.2em;padding-left: 0.2em;position: relative;}#sk-container-id-2 div.sk-item {position: relative;z-index: 1;}#sk-container-id-2 div.sk-parallel {display: flex;align-items: stretch;justify-content: center;background-color: white;position: relative;}#sk-container-id-2 div.sk-item::before, #sk-container-id-2 div.sk-parallel-item::before {content: \"\";position: absolute;border-left: 1px solid gray;box-sizing: border-box;top: 0;bottom: 0;left: 50%;z-index: -1;}#sk-container-id-2 div.sk-parallel-item {display: flex;flex-direction: column;z-index: 1;position: relative;background-color: white;}#sk-container-id-2 div.sk-parallel-item:first-child::after {align-self: flex-end;width: 50%;}#sk-container-id-2 div.sk-parallel-item:last-child::after {align-self: flex-start;width: 50%;}#sk-container-id-2 div.sk-parallel-item:only-child::after {width: 0;}#sk-container-id-2 div.sk-dashed-wrapped {border: 1px dashed gray;margin: 0 0.4em 0.5em 0.4em;box-sizing: border-box;padding-bottom: 0.4em;background-color: white;}#sk-container-id-2 div.sk-label label {font-family: monospace;font-weight: bold;display: inline-block;line-height: 1.2em;}#sk-container-id-2 div.sk-label-container {text-align: center;}#sk-container-id-2 div.sk-container {/* jupyter's `normalize.less` sets `[hidden] { display: none; }` but bootstrap.min.css set `[hidden] { display: none !important; }` so we also need the `!important` here to be able to override the default hidden behavior on the sphinx rendered scikit-learn.org. See: https://github.com/scikit-learn/scikit-learn/issues/21755 */display: inline-block !important;position: relative;}#sk-container-id-2 div.sk-text-repr-fallback {display: none;}</style><div id=\"sk-container-id-2\" class=\"sk-top-container\"><div class=\"sk-text-repr-fallback\"><pre>MinMaxScaler()</pre><b>In a Jupyter environment, please rerun this cell to show the HTML representation or trust the notebook. <br />On GitHub, the HTML representation is unable to render, please try loading this page with nbviewer.org.</b></div><div class=\"sk-container\" hidden><div class=\"sk-item\"><div class=\"sk-estimator sk-toggleable\"><input class=\"sk-toggleable__control sk-hidden--visually\" id=\"sk-estimator-id-2\" type=\"checkbox\" checked><label for=\"sk-estimator-id-2\" class=\"sk-toggleable__label sk-toggleable__label-arrow\">MinMaxScaler</label><div class=\"sk-toggleable__content\"><pre>MinMaxScaler()</pre></div></div></div></div></div>"
      ],
      "text/plain": [
       "MinMaxScaler()"
      ]
     },
     "execution_count": 227,
     "metadata": {},
     "output_type": "execute_result"
    }
   ],
   "source": [
    "ms.fit(df_num[['Total Spend']])"
   ]
  },
  {
   "cell_type": "code",
   "execution_count": 229,
   "id": "58168149-b636-46d2-9c76-9eafa196e549",
   "metadata": {},
   "outputs": [],
   "source": [
    "df_num['Total Spend'] = ms.fit_transform(df_num[['Total Spend']])"
   ]
  },
  {
   "cell_type": "code",
   "execution_count": 231,
   "id": "7023c3cf-1c6a-4d8b-837c-fc7e9e9c2e4a",
   "metadata": {},
   "outputs": [
    {
     "data": {
      "text/plain": [
       "0      0.639502\n",
       "1      0.333273\n",
       "2      0.090102\n",
       "3      0.964122\n",
       "4      0.279095\n",
       "         ...   \n",
       "345    0.224917\n",
       "346    0.053818\n",
       "347    0.703146\n",
       "348    0.333003\n",
       "349    0.094609\n",
       "Name: Total Spend, Length: 348, dtype: float64"
      ]
     },
     "execution_count": 231,
     "metadata": {},
     "output_type": "execute_result"
    }
   ],
   "source": [
    "df_num['Total Spend']"
   ]
  },
  {
   "cell_type": "code",
   "execution_count": 233,
   "id": "3dbb4051-6ede-411c-b29b-703347cdf4cf",
   "metadata": {},
   "outputs": [
    {
     "name": "stderr",
     "output_type": "stream",
     "text": [
      "/Users/amanchauhan/anaconda3/lib/python3.11/site-packages/sklearn/cluster/_kmeans.py:1412: FutureWarning: The default value of `n_init` will change from 10 to 'auto' in 1.4. Set the value of `n_init` explicitly to suppress the warning\n",
      "  super()._check_params_vs_input(X, default_n_init=10)\n",
      "/Users/amanchauhan/anaconda3/lib/python3.11/site-packages/sklearn/cluster/_kmeans.py:1412: FutureWarning: The default value of `n_init` will change from 10 to 'auto' in 1.4. Set the value of `n_init` explicitly to suppress the warning\n",
      "  super()._check_params_vs_input(X, default_n_init=10)\n",
      "/Users/amanchauhan/anaconda3/lib/python3.11/site-packages/sklearn/cluster/_kmeans.py:1412: FutureWarning: The default value of `n_init` will change from 10 to 'auto' in 1.4. Set the value of `n_init` explicitly to suppress the warning\n",
      "  super()._check_params_vs_input(X, default_n_init=10)\n",
      "/Users/amanchauhan/anaconda3/lib/python3.11/site-packages/sklearn/cluster/_kmeans.py:1412: FutureWarning: The default value of `n_init` will change from 10 to 'auto' in 1.4. Set the value of `n_init` explicitly to suppress the warning\n",
      "  super()._check_params_vs_input(X, default_n_init=10)\n",
      "/Users/amanchauhan/anaconda3/lib/python3.11/site-packages/sklearn/cluster/_kmeans.py:1412: FutureWarning: The default value of `n_init` will change from 10 to 'auto' in 1.4. Set the value of `n_init` explicitly to suppress the warning\n",
      "  super()._check_params_vs_input(X, default_n_init=10)\n",
      "/Users/amanchauhan/anaconda3/lib/python3.11/site-packages/sklearn/cluster/_kmeans.py:1412: FutureWarning: The default value of `n_init` will change from 10 to 'auto' in 1.4. Set the value of `n_init` explicitly to suppress the warning\n",
      "  super()._check_params_vs_input(X, default_n_init=10)\n",
      "/Users/amanchauhan/anaconda3/lib/python3.11/site-packages/sklearn/cluster/_kmeans.py:1412: FutureWarning: The default value of `n_init` will change from 10 to 'auto' in 1.4. Set the value of `n_init` explicitly to suppress the warning\n",
      "  super()._check_params_vs_input(X, default_n_init=10)\n",
      "/Users/amanchauhan/anaconda3/lib/python3.11/site-packages/sklearn/cluster/_kmeans.py:1412: FutureWarning: The default value of `n_init` will change from 10 to 'auto' in 1.4. Set the value of `n_init` explicitly to suppress the warning\n",
      "  super()._check_params_vs_input(X, default_n_init=10)\n",
      "/Users/amanchauhan/anaconda3/lib/python3.11/site-packages/sklearn/cluster/_kmeans.py:1412: FutureWarning: The default value of `n_init` will change from 10 to 'auto' in 1.4. Set the value of `n_init` explicitly to suppress the warning\n",
      "  super()._check_params_vs_input(X, default_n_init=10)\n"
     ]
    }
   ],
   "source": [
    "sse = []\n",
    "\n",
    "k_rng = range(1,10)\n",
    "\n",
    "for k in k_rng:\n",
    "    km = KMeans(n_clusters=k)\n",
    "    km.fit(df_num[['Membership Type','Total Spend']])\n",
    "    sse.append(km.inertia_)"
   ]
  },
  {
   "cell_type": "code",
   "execution_count": 235,
   "id": "e7c07942-314c-4397-abbf-6680f9952f2b",
   "metadata": {},
   "outputs": [
    {
     "data": {
      "image/png": "[encoded data removed]",
      "text/plain": [
       "<Figure size 640x480 with 1 Axes>"
      ]
     },
     "metadata": {},
     "output_type": "display_data"
    }
   ],
   "source": [
    "plt.xlabel('NUMBERS OF CLUSTERS OR VALUE OF K')\n",
    "\n",
    "plt.ylabel('SUM OF SQURES ERRORS')\n",
    "\n",
    "plt.plot(k_rng,sse)\n",
    "\n",
    "plt.show()"
   ]
  },
  {
   "cell_type": "markdown",
   "id": "87f6c8e5-aaba-4586-937c-e1be51295f51",
   "metadata": {},
   "source": [
    "# THE final conclusion on the data set for E-Commerace company please give the some more discount to (Bronze Membertype) and \n",
    "# some discount(silver Membertype )\n",
    "# Target the age of 30+ customers for growing the product selling and all\n",
    "# and some better service "
   ]
  },
  {
   "cell_type": "markdown",
   "id": "6791beef-d06b-4c40-aadc-ba5d4208e550",
   "metadata": {},
   "source": [
    "# do the more advertige age of 18 to 30 and some special features like service quality , shoping the products less days and safe delivery"
   ]
  },
  {
   "cell_type": "code",
   "execution_count": null,
   "id": "ef52f913-3947-4255-9307-dc66ff19d431",
   "metadata": {},
   "outputs": [],
   "source": []
  },
  {
   "cell_type": "code",
   "execution_count": null,
   "id": "93a9fa07-0a38-4189-b6ec-d02949b583b5",
   "metadata": {},
   "outputs": [],
   "source": []
  },
  {
   "cell_type": "code",
   "execution_count": null,
   "id": "4475ad6c-8d65-4252-9860-4f16f14605d5",
   "metadata": {},
   "outputs": [],
   "source": []
  }
 ],
 "metadata": {
  "kernelspec": {
   "display_name": "Python 3 (ipykernel)",
   "language": "python",
   "name": "python3"
  },
  "language_info": {
   "codemirror_mode": {
    "name": "ipython",
    "version": 3
   },
   "file_extension": ".py",
   "mimetype": "text/x-python",
   "name": "python",
   "nbconvert_exporter": "python",
   "pygments_lexer": "ipython3",
   "version": "3.11.5"
  }
 },
 "nbformat": 4,
 "nbformat_minor": 5
}
